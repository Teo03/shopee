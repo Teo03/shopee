{
 "cells": [
  {
   "cell_type": "markdown",
   "metadata": {
    "papermill": {
     "duration": 0.017038,
     "end_time": "2021-04-04T00:52:54.782498",
     "exception": false,
     "start_time": "2021-04-04T00:52:54.765460",
     "status": "completed"
    },
    "tags": []
   },
   "source": [
    "# Update\n",
    "\n",
    "Latest Version : Updated the LR scheduler with a custom Step LR schedule similar to what Chris Deotte used in Melanoma Competition. The intuition being the noise present in the labels\n",
    "\n",
    "Next Update : A better cross validation to simulate the test data\n",
    "\n",
    "# About this Notebook\n",
    "\n",
    "Ragnar [here](https://www.kaggle.com/ragnar123/shopee-efficientnetb3-arcmarginproduct) has showed us how to train efficientb3 with arcface and CrossEntropy Loss\n",
    "\n",
    "With this notebook here you can train any efficientnet b0-b7 with following three Metric Learning techniques above the Cross-Entropy Loss:\n",
    "* ArcFace : Most Popular in this competition \n",
    "* CosFace : https://arxiv.org/abs/1801.09414\n",
    "* Adacos : https://arxiv.org/abs/1905.00292\n",
    "\n",
    "Don't worry if these terms feel alien to you , following are few resources to understand them:\n",
    "* https://www.kaggle.com/c/shopee-product-matching/discussion/226279 --- Beautiful Explanantion by Chris Deotte\n",
    "* https://www.kaggle.com/slawekbiel/arcface-explained --  Beautiful kernel explaining ArcFace\n",
    "\n",
    "\n",
    "The training strategy used is as follows:\n",
    "* Make 5-folds stratified on label groups\n",
    "* Use one of the metric learning losses to predict the label  groups using cross entropy loss\n",
    "\n",
    "This notebook basically just converts ragnar's notebook into your beloved Pytorch . \n",
    "<font color='red'>Inference notebook for this training notebook can be found </font> [here](https://www.kaggle.com/tanulsingh077/metric-learning-image-tfidf-inference?scriptVersionId=57597192)\n",
    "\n",
    "<br>I have quick run this notebook because I have exhausted my gpu quota for this week . To see how this pipeline runs you can fork and run it .Hope this helps\n",
    "\n",
    "### Techniques planned to be added\n",
    "\n",
    "* Multiface posted by Mobassir [here](https://www.kaggle.com/c/shopee-product-matching/discussion/227383)\n",
    "\n",
    "You can also have a look at Siamese Type Training Example [here](https://www.kaggle.com/tanulsingh077/siamese-style-training-efficient-net-b0-on-tpu-s)\n",
    "\n",
    "\n",
    "# Important Note\n",
    "\n",
    "Please note that you can easily plug and play with this notebook, just by changing the values in the configuration. I have yet to analyze the data , but a lot of people have reported in noise in the dataset and thus using good augmentations like mixup,cutmix might help with training . Also losses like label smoothing , Focal loss,etc can be used. \n",
    "\n",
    "All my ideas I will keep on appending in this kernel and all the results will be maintained in [this](https://www.kaggle.com/c/shopee-product-matching/discussion/228148) discussion thread"
   ]
  },
  {
   "cell_type": "code",
   "execution_count": 1,
   "metadata": {
    "_cell_guid": "b1076dfc-b9ad-4769-8c92-a6c4dae69d19",
    "_uuid": "8f2839f25d086af736a60e9eeb907d3b93b6e0e5",
    "execution": {
     "iopub.execute_input": "2021-04-04T00:52:54.820627Z",
     "iopub.status.busy": "2021-04-04T00:52:54.819799Z",
     "iopub.status.idle": "2021-04-04T00:52:54.822766Z",
     "shell.execute_reply": "2021-04-04T00:52:54.822180Z"
    },
    "papermill": {
     "duration": 0.024556,
     "end_time": "2021-04-04T00:52:54.822943",
     "exception": false,
     "start_time": "2021-04-04T00:52:54.798387",
     "status": "completed"
    },
    "tags": []
   },
   "outputs": [],
   "source": [
    "import sys\n",
    "\n",
    "package_paths = [\n",
    "    '../input/pytorch-image-models/pytorch-image-models-master', #'../input/efficientnet-pytorch-07/efficientnet_pytorch-0.7.0'\n",
    "    '../input/image-fmix/FMix-master'\n",
    "]\n",
    "for pth in package_paths:\n",
    "    sys.path.append(pth)\n",
    "# sys.path.append('../input/pytorch-image-models/pytorch-image-models-master')"
   ]
  },
  {
   "cell_type": "code",
   "execution_count": 2,
   "metadata": {
    "execution": {
     "iopub.execute_input": "2021-04-04T00:52:54.867549Z",
     "iopub.status.busy": "2021-04-04T00:52:54.866819Z",
     "iopub.status.idle": "2021-04-04T00:52:58.743394Z",
     "shell.execute_reply": "2021-04-04T00:52:58.742796Z"
    },
    "papermill": {
     "duration": 3.904602,
     "end_time": "2021-04-04T00:52:58.743526",
     "exception": false,
     "start_time": "2021-04-04T00:52:54.838924",
     "status": "completed"
    },
    "tags": []
   },
   "outputs": [],
   "source": [
    "# Preliminaries\n",
    "from tqdm import tqdm\n",
    "import math\n",
    "import random\n",
    "import os\n",
    "import pandas as pd\n",
    "import numpy as np\n",
    "from sklearn.preprocessing import LabelEncoder\n",
    "\n",
    "# Visuals and CV2\n",
    "import cv2\n",
    "\n",
    "# albumentations for augs\n",
    "import albumentations\n",
    "from albumentations.pytorch.transforms import ToTensorV2\n",
    "from fmix import sample_mask, make_low_freq_image, binarise_mask\n",
    "\n",
    "#torch\n",
    "import torch\n",
    "import timm\n",
    "import torch\n",
    "import torch.nn as nn\n",
    "from torch.nn import Parameter\n",
    "from torch.nn import functional as F\n",
    "from torch.utils.data import Dataset,DataLoader\n",
    "from torch.optim import Adam\n",
    "from torch.optim.lr_scheduler import CosineAnnealingWarmRestarts, CosineAnnealingLR, ReduceLROnPlateau\n",
    "from torch.optim import Adam, lr_scheduler\n",
    "from torch.optim.lr_scheduler import _LRScheduler\n",
    "from sklearn.metrics import accuracy_score"
   ]
  },
  {
   "cell_type": "markdown",
   "metadata": {
    "papermill": {
     "duration": 0.016753,
     "end_time": "2021-04-04T00:52:58.777669",
     "exception": false,
     "start_time": "2021-04-04T00:52:58.760916",
     "status": "completed"
    },
    "tags": []
   },
   "source": [
    "# Configuration"
   ]
  },
  {
   "cell_type": "code",
   "execution_count": 3,
   "metadata": {
    "execution": {
     "iopub.execute_input": "2021-04-04T00:52:58.819988Z",
     "iopub.status.busy": "2021-04-04T00:52:58.819235Z",
     "iopub.status.idle": "2021-04-04T00:52:58.822287Z",
     "shell.execute_reply": "2021-04-04T00:52:58.821813Z"
    },
    "papermill": {
     "duration": 0.028202,
     "end_time": "2021-04-04T00:52:58.822435",
     "exception": false,
     "start_time": "2021-04-04T00:52:58.794233",
     "status": "completed"
    },
    "tags": []
   },
   "outputs": [],
   "source": [
    "# DIM = (512,512)\n",
    "image_size = 512\n",
    "\n",
    "NUM_WORKERS = 4\n",
    "TRAIN_BATCH_SIZE = 16\n",
    "VALID_BATCH_SIZE = 16\n",
    "EPOCHS = 30\n",
    "SEED = 42\n",
    "#LR = 3e-4\n",
    "\n",
    "device = torch.device('cuda')\n",
    "\n",
    "\n",
    "################################################# MODEL ####################################################################\n",
    "\n",
    "model_name = 'efficientnet_b3' #efficientnet_b0-b7\n",
    "\n",
    "################################################ Metric Loss and its params #######################################################\n",
    "loss_module = 'arcface' #'cosface' #'adacos'\n",
    "s = 30.0\n",
    "m = 0.5 \n",
    "ls_eps = 0.0\n",
    "easy_margin = False\n",
    "\n",
    "\n",
    "####################################### Scheduler and its params ############################################################\n",
    "# SCHEDULER = 'CosineAnnealingWarmRestarts' #'CosineAnnealingLR'\n",
    "# factor=0.2 # ReduceLROnPlateau\n",
    "# patience=4 # ReduceLROnPlateau\n",
    "# eps=1e-6 # ReduceLROnPlateau\n",
    "# T_max=10 # CosineAnnealingLR\n",
    "# T_0=4 # CosineAnnealingWarmRestarts\n",
    "# min_lr=1e-6\n",
    "\n",
    "\n",
    "scheduler_params = {\n",
    "        \"lr_start\": 1e-5,\n",
    "        \"lr_max\": 1e-5 * TRAIN_BATCH_SIZE,\n",
    "        \"lr_min\": 1e-6,\n",
    "        \"lr_ramp_ep\": 5,\n",
    "        \"lr_sus_ep\": 0,\n",
    "        \"lr_decay\": 0.8,\n",
    "    }\n",
    "\n",
    "############################################## Model Params ###############################################################\n",
    "model_params = {\n",
    "    'n_classes':11014,\n",
    "    'model_name':'efficientnet_b3',\n",
    "    'use_fc':False,\n",
    "    'fc_dim':512,\n",
    "    'dropout':0.0,\n",
    "    'loss_module':loss_module,\n",
    "    's':30.0,\n",
    "    'margin':0.50,\n",
    "    'ls_eps':0.0,\n",
    "    'theta_zero':0.785,\n",
    "    'pretrained':True\n",
    "}\n",
    "############################################## Folds ###############################################################\n",
    "fold_id = 0\n"
   ]
  },
  {
   "cell_type": "markdown",
   "metadata": {
    "papermill": {
     "duration": 0.016367,
     "end_time": "2021-04-04T00:52:58.855134",
     "exception": false,
     "start_time": "2021-04-04T00:52:58.838767",
     "status": "completed"
    },
    "tags": []
   },
   "source": [
    "# Utils"
   ]
  },
  {
   "cell_type": "code",
   "execution_count": 4,
   "metadata": {
    "execution": {
     "iopub.execute_input": "2021-04-04T00:52:58.894543Z",
     "iopub.status.busy": "2021-04-04T00:52:58.894033Z",
     "iopub.status.idle": "2021-04-04T00:52:58.899715Z",
     "shell.execute_reply": "2021-04-04T00:52:58.899308Z"
    },
    "papermill": {
     "duration": 0.026569,
     "end_time": "2021-04-04T00:52:58.899825",
     "exception": false,
     "start_time": "2021-04-04T00:52:58.873256",
     "status": "completed"
    },
    "tags": []
   },
   "outputs": [],
   "source": [
    "def seed_torch(seed=42):\n",
    "    random.seed(seed)\n",
    "    os.environ['PYTHONHASHSEED'] = str(seed)\n",
    "    np.random.seed(seed)\n",
    "    torch.manual_seed(seed)\n",
    "    torch.cuda.manual_seed(seed)\n",
    "    torch.backends.cudnn.deterministic = True\n",
    "    \n",
    "seed_torch(SEED)"
   ]
  },
  {
   "cell_type": "code",
   "execution_count": 5,
   "metadata": {
    "execution": {
     "iopub.execute_input": "2021-04-04T00:52:58.937825Z",
     "iopub.status.busy": "2021-04-04T00:52:58.937200Z",
     "iopub.status.idle": "2021-04-04T00:52:58.940200Z",
     "shell.execute_reply": "2021-04-04T00:52:58.939757Z"
    },
    "papermill": {
     "duration": 0.024138,
     "end_time": "2021-04-04T00:52:58.940313",
     "exception": false,
     "start_time": "2021-04-04T00:52:58.916175",
     "status": "completed"
    },
    "tags": []
   },
   "outputs": [],
   "source": [
    "class AverageMeter(object):\n",
    "    def __init__(self):\n",
    "        self.reset()\n",
    "    \n",
    "    def reset(self):\n",
    "        self.val = 0\n",
    "        self.avg = 0\n",
    "        self.sum = 0\n",
    "        self.count = 0\n",
    "    \n",
    "    def update(self, val, n=1):\n",
    "        self.val = val\n",
    "        self.sum += val * n\n",
    "        self.count += n\n",
    "        self.avg = self.sum / self.count"
   ]
  },
  {
   "cell_type": "code",
   "execution_count": 6,
   "metadata": {
    "execution": {
     "iopub.execute_input": "2021-04-04T00:52:58.978907Z",
     "iopub.status.busy": "2021-04-04T00:52:58.978187Z",
     "iopub.status.idle": "2021-04-04T00:52:58.981187Z",
     "shell.execute_reply": "2021-04-04T00:52:58.980779Z"
    },
    "papermill": {
     "duration": 0.024172,
     "end_time": "2021-04-04T00:52:58.981292",
     "exception": false,
     "start_time": "2021-04-04T00:52:58.957120",
     "status": "completed"
    },
    "tags": []
   },
   "outputs": [],
   "source": [
    "def fetch_scheduler(optimizer):\n",
    "        if SCHEDULER =='ReduceLROnPlateau':\n",
    "            scheduler = ReduceLROnPlateau(optimizer, mode='min', factor=factor, patience=patience, verbose=True, eps=eps)\n",
    "        elif SCHEDULER =='CosineAnnealingLR':\n",
    "            scheduler = CosineAnnealingLR(optimizer, T_max=T_max, eta_min=min_lr, last_epoch=-1)\n",
    "        elif SCHEDULER =='CosineAnnealingWarmRestarts':\n",
    "            scheduler = CosineAnnealingWarmRestarts(optimizer, T_0=T_0, T_mult=1, eta_min=min_lr, last_epoch=-1)\n",
    "        return scheduler"
   ]
  },
  {
   "cell_type": "code",
   "execution_count": 7,
   "metadata": {
    "execution": {
     "iopub.execute_input": "2021-04-04T00:52:59.017820Z",
     "iopub.status.busy": "2021-04-04T00:52:59.017203Z",
     "iopub.status.idle": "2021-04-04T00:52:59.020166Z",
     "shell.execute_reply": "2021-04-04T00:52:59.019722Z"
    },
    "papermill": {
     "duration": 0.022613,
     "end_time": "2021-04-04T00:52:59.020274",
     "exception": false,
     "start_time": "2021-04-04T00:52:58.997661",
     "status": "completed"
    },
    "tags": []
   },
   "outputs": [],
   "source": [
    "def fetch_loss():\n",
    "    loss = nn.CrossEntropyLoss()\n",
    "    return loss"
   ]
  },
  {
   "cell_type": "markdown",
   "metadata": {
    "papermill": {
     "duration": 0.016292,
     "end_time": "2021-04-04T00:52:59.053946",
     "exception": false,
     "start_time": "2021-04-04T00:52:59.037654",
     "status": "completed"
    },
    "tags": []
   },
   "source": [
    "# Augmentations"
   ]
  },
  {
   "cell_type": "code",
   "execution_count": 8,
   "metadata": {
    "execution": {
     "iopub.execute_input": "2021-04-04T00:52:59.097111Z",
     "iopub.status.busy": "2021-04-04T00:52:59.096268Z",
     "iopub.status.idle": "2021-04-04T00:52:59.100299Z",
     "shell.execute_reply": "2021-04-04T00:52:59.099904Z"
    },
    "papermill": {
     "duration": 0.029355,
     "end_time": "2021-04-04T00:52:59.100419",
     "exception": false,
     "start_time": "2021-04-04T00:52:59.071064",
     "status": "completed"
    },
    "tags": []
   },
   "outputs": [],
   "source": [
    "# def get_train_transforms():\n",
    "#     return albumentations.Compose(\n",
    "#         [   \n",
    "#             albumentations.Resize(DIM[0],DIM[1],always_apply=True),\n",
    "#             albumentations.HorizontalFlip(p=0.5),\n",
    "#             albumentations.VerticalFlip(p=0.5),\n",
    "#             albumentations.Rotate(limit=120, p=0.8),\n",
    "#             albumentations.RandomBrightness(limit=(0.09, 0.6), p=0.5),\n",
    "#             #albumentations.Cutout(num_holes=8, max_h_size=8, max_w_size=8, fill_value=0, always_apply=False, p=0.5),\n",
    "#             #albumentations.ShiftScaleRotate(\n",
    "#               #  shift_limit=0.25, scale_limit=0.1, rotate_limit=0\n",
    "#             #),\n",
    "#             albumentations.Normalize(),\n",
    "#             ToTensorV2(p=1.0),\n",
    "#         ]\n",
    "#     )\n",
    "\n",
    "# def get_valid_transforms():\n",
    "\n",
    "#     return albumentations.Compose(\n",
    "#         [\n",
    "#             albumentations.Resize(DIM[0],DIM[1],always_apply=True),\n",
    "#             albumentations.Normalize(),\n",
    "#         ToTensorV2(p=1.0)\n",
    "#         ]\n",
    "#     )\n",
    "# def transforms_train():\n",
    "#     return albumentations.Compose([\n",
    "#        albumentations.RandomResizedCrop(CFG['image_size'], CFG['image_size'], scale=(0.9, 1), p=1), \n",
    "#        albumentations.HorizontalFlip(p=0.5),\n",
    "#        albumentations.ShiftScaleRotate(p=0.5),\n",
    "#        albumentations.HueSaturationValue(hue_shift_limit=0.2, sat_shift_limit=0.2, val_shift_limit=0.2, p=0.7),\n",
    "#        albumentations.RandomBrightnessContrast(brightness_limit=(-0.2,0.2), contrast_limit=(-0.2, 0.2), p=0.7),\n",
    "#        albumentations.CLAHE(clip_limit=(1,4), p=0.5),\n",
    "#        albumentations.OneOf([\n",
    "#            albumentations.OpticalDistortion(distort_limit=1.0),\n",
    "# #            albumentations.GridDistortion(num_steps=5, distort_limit=1.),\n",
    "# #            albumentations.ElasticTransform(alpha=3),\n",
    "#        ], p=0.2),\n",
    "# #        albumentations.OneOf([\n",
    "# #            albumentations.GaussNoise(var_limit=[10, 50]),\n",
    "# #            albumentations.GaussianBlur(),\n",
    "# #            albumentations.MotionBlur(),\n",
    "# #            albumentations.MedianBlur(),\n",
    "# #        ], p=0.2),\n",
    "#       albumentations.Resize(CFG['image_size'], CFG['image_size']),\n",
    "# #       albumentations.OneOf([\n",
    "# #           JpegCompression(),\n",
    "# #           Downscale(scale_min=0.1, scale_max=0.15),\n",
    "# #       ], p=0.2),\n",
    "#       IAAPiecewiseAffine(p=0.2),\n",
    "#       IAASharpen(p=0.2),\n",
    "# #       albumentations.Cutout(p=0.5),\n",
    "#       albumentations.Cutout(max_h_size=int(CFG['image_size'] * 0.1), max_w_size=int(CFG['image_size'] * 0.1), num_holes=5, p=0.5),\n",
    "#       albumentations.Normalize(mean=[0.485, 0.456, 0.406], std=[0.229, 0.224, 0.225], max_pixel_value=255.0, p=1.0),\n",
    "#     ])\n",
    "\n",
    "def transforms_train():\n",
    "    return albumentations.Compose([\n",
    "        albumentations.Resize(image_size, image_size),\n",
    "        albumentations.HorizontalFlip(p=0.5),\n",
    "        albumentations.RandomBrightnessContrast(p=0.5, brightness_limit=(-0.2, 0.2), contrast_limit=(-0.2, 0.2)),\n",
    "        albumentations.HueSaturationValue(p=0.5, hue_shift_limit=0.2, sat_shift_limit=0.2, val_shift_limit=0.2),\n",
    "        albumentations.ShiftScaleRotate(p=0.5, shift_limit=0.0625, scale_limit=0.2, rotate_limit=20),\n",
    "        albumentations.CoarseDropout(p=0.5),\n",
    "        albumentations.Normalize()\n",
    "])\n",
    "\n",
    "# transforms_train = albumentations.Compose([\n",
    "#     albumentations.Resize(image_size, image_size),\n",
    "#     albumentations.HorizontalFlip(p=0.5),\n",
    "#     albumentations.RandomBrightnessContrast(p=0.5, brightness_limit=(-0.2, 0.2), contrast_limit=(-0.2, 0.2)),\n",
    "#     albumentations.HueSaturationValue(p=0.5, hue_shift_limit=0.2, sat_shift_limit=0.2, val_shift_limit=0.2),\n",
    "#     albumentations.ShiftScaleRotate(p=0.5, shift_limit=0.0625, scale_limit=0.2, rotate_limit=20),\n",
    "#     albumentations.CoarseDropout(p=0.5),\n",
    "#     albumentations.Normalize()\n",
    "# ])\n",
    "\n",
    "# transforms_valid = albumentations.Compose([\n",
    "#     albumentations.Resize(image_size, image_size),\n",
    "#     albumentations.Normalize()\n",
    "# ])\n",
    "def transforms_valid():\n",
    "    return albumentations.Compose([\n",
    "        albumentations.Resize(image_size, image_size),\n",
    "        albumentations.Normalize(mean=[0.485, 0.456, 0.406], std=[0.229, 0.224, 0.225], max_pixel_value=255.0, p=1.0),\n",
    "    ])"
   ]
  },
  {
   "cell_type": "markdown",
   "metadata": {
    "papermill": {
     "duration": 0.016442,
     "end_time": "2021-04-04T00:52:59.133245",
     "exception": false,
     "start_time": "2021-04-04T00:52:59.116803",
     "status": "completed"
    },
    "tags": []
   },
   "source": [
    "# Dataset"
   ]
  },
  {
   "cell_type": "code",
   "execution_count": 9,
   "metadata": {
    "execution": {
     "iopub.execute_input": "2021-04-04T00:52:59.187284Z",
     "iopub.status.busy": "2021-04-04T00:52:59.186555Z",
     "iopub.status.idle": "2021-04-04T00:52:59.189366Z",
     "shell.execute_reply": "2021-04-04T00:52:59.188859Z"
    },
    "papermill": {
     "duration": 0.039815,
     "end_time": "2021-04-04T00:52:59.189470",
     "exception": false,
     "start_time": "2021-04-04T00:52:59.149655",
     "status": "completed"
    },
    "tags": []
   },
   "outputs": [],
   "source": [
    "def rand_bbox(size, lam):\n",
    "    W = size[0]\n",
    "    H = size[1]\n",
    "    cut_rat = np.sqrt(1. - lam)\n",
    "    cut_w = np.int(W * cut_rat)\n",
    "    cut_h = np.int(H * cut_rat)\n",
    "\n",
    "    # uniform\n",
    "    cx = np.random.randint(W)\n",
    "    cy = np.random.randint(H)\n",
    "\n",
    "    bbx1 = np.clip(cx - cut_w // 2, 0, W)\n",
    "    bby1 = np.clip(cy - cut_h // 2, 0, H)\n",
    "    bbx2 = np.clip(cx + cut_w // 2, 0, W)\n",
    "    bby2 = np.clip(cy + cut_h // 2, 0, H)\n",
    "    return bbx1, bby1, bbx2, bby2\n",
    "\n",
    "class ShopeeDataset(Dataset):\n",
    "    def __init__(self, df, mode, transform=None, do_fmix=False, \n",
    "                 fmix_params={'alpha': 1.,\n",
    "                              'decay_power': 3.,\n",
    "                              'shape': (image_size, image_size),\n",
    "                              'max_soft': True,\n",
    "                              'reformulate': False\n",
    "                },do_cutmix=False,\n",
    "                 cutmix_params={\n",
    "                    'alpha': 1,\n",
    "                }):\n",
    "        \n",
    "        self.df = df.reset_index(drop=True)\n",
    "        self.mode = mode\n",
    "        self.transform = transform\n",
    "        self.do_fmix = do_fmix\n",
    "        self.fmix_params = fmix_params\n",
    "        self.do_cutmix = do_cutmix\n",
    "        self.cutmix_params = cutmix_params\n",
    "        self.labels = df.group.values\n",
    "        \n",
    "    def __len__(self):\n",
    "        return len(self.df)\n",
    "    \n",
    "    def __getitem__(self, index):\n",
    "        label = self.labels[index]\n",
    "        \n",
    "        row = self.df.loc[index]\n",
    "        img = cv2.imread(row.file_path)\n",
    "        img = cv2.cvtColor(img, cv2.COLOR_BGR2RGB)\n",
    "        \n",
    "        \n",
    "        if self.transform is not None:\n",
    "            img = self.transform(image=img)['image']\n",
    "            \n",
    "        if self.do_fmix and np.random.uniform(0., 1., size=1)[0] > 0.5:\n",
    "#             with torch.no_grad:\n",
    "            lam = np.clip(np.random.beta(self.fmix_params['alpha'], self.fmix_params['alpha']), 0.6, 0.7)\n",
    "            #Make mask, et mean/ std\n",
    "            mask = make_low_freq_image(self.fmix_params['decay_power'], self.fmix_params['shape'])\n",
    "            \n",
    "            mask = binarise_mask(mask, lam, self.fmix_params['shape'], self.fmix_params['max_soft'])\n",
    "#             print(self.df.index)\n",
    "            fmix_ix = np.random.choice(self.df.index, size=1)[0]\n",
    "#             print(\"==============Starts now===============\")\n",
    "            row = self.df.iloc[fmix_ix]\n",
    "#             print(row)\n",
    "            fmix_img = cv2.imread(row.file_path)\n",
    "# #             print(fmix_img)\n",
    "            fmix_img = cv2.cvtColor(fmix_img,cv2.COLOR_BGR2RGB)\n",
    "            \n",
    "\n",
    "            if self.transform is not None:\n",
    "                fmix_img = self.transform(image=fmix_img)['image']\n",
    "            \n",
    "#             print(\"Mask shape: \", mask.shape)\n",
    "#             mask_torch = mask.numpy()\n",
    "            mask = mask.transpose(1,2,0)\n",
    "#             print(\"Transposed mask torch:\", mask.shape)\n",
    "            mask_torch = mask\n",
    "#             mask_torch = torch.from_numpy(mask)\n",
    "            \n",
    "#             print(\"Mask torch shape: \", mask_torch.shape)\n",
    "            #mix image\n",
    "            img = mask_torch*img+(1.-mask_torch)*fmix_img\n",
    "#             print(\"Mix shape:\", img.shape)\n",
    "            rate = mask.sum()/image_size/image_size\n",
    "            label = rate*label + (1.-rate)*self.labels[fmix_ix]\n",
    "        \n",
    "        if self.do_cutmix and np.random.uniform(0., 1., size=1)[0] > 0.5:\n",
    "            #print(img.sum(), img.shape)\n",
    "            with torch.no_grad():\n",
    "                cmix_ix = np.random.choice(self.df.index, size=1)[0]\n",
    "                \n",
    "                row = self.df.iloc[cmix_ix]\n",
    "                cmix_img = cv2.imread(row.file_path)\n",
    "                cmix_img = cv2.cvtColor(cmix_img,cv2.COLOR_BGR2RGB)\n",
    "                \n",
    "                if self.transform:\n",
    "                    cmix_img = self.transform(image=cmix_img)['image']\n",
    "                    \n",
    "                lam = np.clip(np.random.beta(self.cutmix_params['alpha'], self.cutmix_params['alpha']),0.3,0.4)\n",
    "                bbx1, bby1, bbx2, bby2 = rand_bbox((image_size, image_size), lam)\n",
    "\n",
    "                img[:, bbx1:bbx2, bby1:bby2] = cmix_img[:, bbx1:bbx2, bby1:bby2]\n",
    "\n",
    "                rate = 1 - ((bbx2 - bbx1) * (bby2 - bby1) / (image_size * image_size))\n",
    "                label = rate*label + (1.-rate)*self.labels[cmix_ix]\n",
    "                \n",
    "        img = img.astype(np.float32)\n",
    "        img = img.transpose(2,0,1)\n",
    "        \n",
    "        if self.mode == 'test':\n",
    "            return torch.tensor(img)\n",
    "        else:\n",
    "            return torch.tensor(img), torch.tensor(row.group)"
   ]
  },
  {
   "cell_type": "markdown",
   "metadata": {
    "papermill": {
     "duration": 0.01648,
     "end_time": "2021-04-04T00:52:59.222506",
     "exception": false,
     "start_time": "2021-04-04T00:52:59.206026",
     "status": "completed"
    },
    "tags": []
   },
   "source": [
    "# Model"
   ]
  },
  {
   "cell_type": "code",
   "execution_count": 10,
   "metadata": {
    "execution": {
     "iopub.execute_input": "2021-04-04T00:52:59.269617Z",
     "iopub.status.busy": "2021-04-04T00:52:59.268894Z",
     "iopub.status.idle": "2021-04-04T00:52:59.271853Z",
     "shell.execute_reply": "2021-04-04T00:52:59.271332Z"
    },
    "papermill": {
     "duration": 0.033008,
     "end_time": "2021-04-04T00:52:59.271963",
     "exception": false,
     "start_time": "2021-04-04T00:52:59.238955",
     "status": "completed"
    },
    "tags": []
   },
   "outputs": [],
   "source": [
    "class ShopeeNet(nn.Module):\n",
    "\n",
    "    def __init__(self,\n",
    "                 n_classes,\n",
    "                 model_name='efficientnet_b0',\n",
    "                 use_fc=False,\n",
    "                 fc_dim=512,\n",
    "                 dropout=0.0,\n",
    "                 loss_module='softmax',\n",
    "                 s=30.0,\n",
    "                 margin=0.50,\n",
    "                 ls_eps=0.0,\n",
    "                 theta_zero=0.785,\n",
    "                 pretrained=True):\n",
    "        \"\"\"\n",
    "        :param n_classes:\n",
    "        :param model_name: name of model from pretrainedmodels\n",
    "            e.g. resnet50, resnext101_32x4d, pnasnet5large\n",
    "        :param pooling: One of ('SPoC', 'MAC', 'RMAC', 'GeM', 'Rpool', 'Flatten', 'CompactBilinearPooling')\n",
    "        :param loss_module: One of ('arcface', 'cosface', 'softmax')\n",
    "        \"\"\"\n",
    "        super(ShopeeNet, self).__init__()\n",
    "        print('Building Model Backbone for {} model'.format(model_name))\n",
    "\n",
    "        self.backbone = timm.create_model(model_name, pretrained=pretrained)\n",
    "        final_in_features = self.backbone.classifier.in_features\n",
    "        \n",
    "        self.backbone.classifier = nn.Identity()\n",
    "        self.backbone.global_pool = nn.Identity()\n",
    "        \n",
    "        self.pooling =  nn.AdaptiveAvgPool2d(1)\n",
    "            \n",
    "        self.use_fc = use_fc\n",
    "        if use_fc:\n",
    "            self.dropout = nn.Dropout(p=dropout)\n",
    "            self.fc = nn.Linear(final_in_features, fc_dim)\n",
    "            self.bn = nn.BatchNorm1d(fc_dim)\n",
    "            self._init_params()\n",
    "            final_in_features = fc_dim\n",
    "\n",
    "        self.loss_module = loss_module\n",
    "        if loss_module == 'arcface':\n",
    "            self.final = ArcMarginProduct(final_in_features, n_classes,\n",
    "                                          s=s, m=margin, easy_margin=False, ls_eps=ls_eps)\n",
    "        elif loss_module == 'cosface':\n",
    "            self.final = AddMarginProduct(final_in_features, n_classes, s=s, m=margin)\n",
    "        elif loss_module == 'adacos':\n",
    "            self.final = AdaCos(final_in_features, n_classes, m=margin, theta_zero=theta_zero)\n",
    "        else:\n",
    "            self.final = nn.Linear(final_in_features, n_classes)\n",
    "\n",
    "    def _init_params(self):\n",
    "        nn.init.xavier_normal_(self.fc.weight)\n",
    "        nn.init.constant_(self.fc.bias, 0)\n",
    "        nn.init.constant_(self.bn.weight, 1)\n",
    "        nn.init.constant_(self.bn.bias, 0)\n",
    "\n",
    "    def forward(self, x, label):\n",
    "        feature = self.extract_feat(x)\n",
    "        if self.loss_module in ('arcface', 'cosface', 'adacos'):\n",
    "            logits = self.final(feature, label)\n",
    "        else:\n",
    "            logits = self.final(feature)\n",
    "        return logits\n",
    "\n",
    "    def extract_feat(self, x):\n",
    "        batch_size = x.shape[0]\n",
    "        x = self.backbone(x)\n",
    "        x = self.pooling(x).view(batch_size, -1)\n",
    "\n",
    "        if self.use_fc:\n",
    "            x = self.dropout(x)\n",
    "            x = self.fc(x)\n",
    "            x = self.bn(x)\n",
    "\n",
    "        return x"
   ]
  },
  {
   "cell_type": "markdown",
   "metadata": {
    "papermill": {
     "duration": 0.016584,
     "end_time": "2021-04-04T00:52:59.305461",
     "exception": false,
     "start_time": "2021-04-04T00:52:59.288877",
     "status": "completed"
    },
    "tags": []
   },
   "source": [
    "# Metric Learning Losses\n",
    "\n",
    "* https://github.com/lyakaap/Landmark2019-1st-and-3rd-Place-Solution/blob/master/src/modeling/metric_learning.py -- Code Taken from here"
   ]
  },
  {
   "cell_type": "code",
   "execution_count": 11,
   "metadata": {
    "execution": {
     "iopub.execute_input": "2021-04-04T00:52:59.349796Z",
     "iopub.status.busy": "2021-04-04T00:52:59.349037Z",
     "iopub.status.idle": "2021-04-04T00:52:59.351762Z",
     "shell.execute_reply": "2021-04-04T00:52:59.351331Z"
    },
    "papermill": {
     "duration": 0.029752,
     "end_time": "2021-04-04T00:52:59.351879",
     "exception": false,
     "start_time": "2021-04-04T00:52:59.322127",
     "status": "completed"
    },
    "tags": []
   },
   "outputs": [],
   "source": [
    "class AdaCos(nn.Module):\n",
    "    def __init__(self, in_features, out_features, m=0.50, ls_eps=0, theta_zero=math.pi/4):\n",
    "        super(AdaCos, self).__init__()\n",
    "        self.in_features = in_features\n",
    "        self.out_features = out_features\n",
    "        self.theta_zero = theta_zero\n",
    "        self.s = math.log(out_features - 1) / math.cos(theta_zero)\n",
    "        self.m = m\n",
    "        self.ls_eps = ls_eps  # label smoothing\n",
    "        self.weight = Parameter(torch.FloatTensor(out_features, in_features))\n",
    "        nn.init.xavier_uniform_(self.weight)\n",
    "\n",
    "    def forward(self, input, label):\n",
    "        # normalize features\n",
    "        x = F.normalize(input)\n",
    "        # normalize weights\n",
    "        W = F.normalize(self.weight)\n",
    "        # dot product\n",
    "        logits = F.linear(x, W)\n",
    "        # add margin\n",
    "        theta = torch.acos(torch.clamp(logits, -1.0 + 1e-7, 1.0 - 1e-7))\n",
    "        target_logits = torch.cos(theta + self.m)\n",
    "        one_hot = torch.zeros_like(logits)\n",
    "        one_hot.scatter_(1, label.view(-1, 1).long(), 1)\n",
    "        if self.ls_eps > 0:\n",
    "            one_hot = (1 - self.ls_eps) * one_hot + self.ls_eps / self.out_features\n",
    "        output = logits * (1 - one_hot) + target_logits * one_hot\n",
    "        # feature re-scale\n",
    "        with torch.no_grad():\n",
    "            B_avg = torch.where(one_hot < 1, torch.exp(self.s * logits), torch.zeros_like(logits))\n",
    "            B_avg = torch.sum(B_avg) / input.size(0)\n",
    "            theta_med = torch.median(theta)\n",
    "            self.s = torch.log(B_avg) / torch.cos(torch.min(self.theta_zero * torch.ones_like(theta_med), theta_med))\n",
    "        output *= self.s\n",
    "\n",
    "        return output"
   ]
  },
  {
   "cell_type": "code",
   "execution_count": 12,
   "metadata": {
    "execution": {
     "iopub.execute_input": "2021-04-04T00:52:59.395959Z",
     "iopub.status.busy": "2021-04-04T00:52:59.395322Z",
     "iopub.status.idle": "2021-04-04T00:52:59.398300Z",
     "shell.execute_reply": "2021-04-04T00:52:59.397799Z"
    },
    "papermill": {
     "duration": 0.029705,
     "end_time": "2021-04-04T00:52:59.398411",
     "exception": false,
     "start_time": "2021-04-04T00:52:59.368706",
     "status": "completed"
    },
    "tags": []
   },
   "outputs": [],
   "source": [
    "class ArcMarginProduct(nn.Module):\n",
    "    r\"\"\"Implement of large margin arc distance: :\n",
    "        Args:\n",
    "            in_features: size of each input sample\n",
    "            out_features: size of each output sample\n",
    "            s: norm of input feature\n",
    "            m: margin\n",
    "            cos(theta + m)\n",
    "        \"\"\"\n",
    "    def __init__(self, in_features, out_features, s=30.0, m=0.50, easy_margin=False, ls_eps=0.0):\n",
    "        super(ArcMarginProduct, self).__init__()\n",
    "        self.in_features = in_features\n",
    "        self.out_features = out_features\n",
    "        self.s = s\n",
    "        self.m = m\n",
    "        self.ls_eps = ls_eps  # label smoothing\n",
    "        self.weight = Parameter(torch.FloatTensor(out_features, in_features))\n",
    "        nn.init.xavier_uniform_(self.weight)\n",
    "\n",
    "        self.easy_margin = easy_margin\n",
    "        self.cos_m = math.cos(m)\n",
    "        self.sin_m = math.sin(m)\n",
    "        self.th = math.cos(math.pi - m)\n",
    "        self.mm = math.sin(math.pi - m) * m\n",
    "\n",
    "    def forward(self, input, label):\n",
    "        # --------------------------- cos(theta) & phi(theta) ---------------------------\n",
    "        cosine = F.linear(F.normalize(input), F.normalize(self.weight))\n",
    "        sine = torch.sqrt(1.0 - torch.pow(cosine, 2))\n",
    "        phi = cosine * self.cos_m - sine * self.sin_m\n",
    "        if self.easy_margin:\n",
    "            phi = torch.where(cosine > 0, phi, cosine)\n",
    "        else:\n",
    "            phi = torch.where(cosine > self.th, phi, cosine - self.mm)\n",
    "        # --------------------------- convert label to one-hot ---------------------------\n",
    "        # one_hot = torch.zeros(cosine.size(), requires_grad=True, device='cuda')\n",
    "        one_hot = torch.zeros(cosine.size(), device='cuda')\n",
    "        one_hot.scatter_(1, label.view(-1, 1).long(), 1)\n",
    "        if self.ls_eps > 0:\n",
    "            one_hot = (1 - self.ls_eps) * one_hot + self.ls_eps / self.out_features\n",
    "        # -------------torch.where(out_i = {x_i if condition_i else y_i) -------------\n",
    "        output = (one_hot * phi) + ((1.0 - one_hot) * cosine)\n",
    "        output *= self.s\n",
    "\n",
    "        return output"
   ]
  },
  {
   "cell_type": "code",
   "execution_count": 13,
   "metadata": {
    "execution": {
     "iopub.execute_input": "2021-04-04T00:52:59.439643Z",
     "iopub.status.busy": "2021-04-04T00:52:59.439019Z",
     "iopub.status.idle": "2021-04-04T00:52:59.441894Z",
     "shell.execute_reply": "2021-04-04T00:52:59.441280Z"
    },
    "papermill": {
     "duration": 0.026657,
     "end_time": "2021-04-04T00:52:59.442009",
     "exception": false,
     "start_time": "2021-04-04T00:52:59.415352",
     "status": "completed"
    },
    "tags": []
   },
   "outputs": [],
   "source": [
    "class AddMarginProduct(nn.Module):\n",
    "    r\"\"\"Implement of large margin cosine distance: :\n",
    "    Args:\n",
    "        in_features: size of each input sample\n",
    "        out_features: size of each output sample\n",
    "        s: norm of input feature\n",
    "        m: margin\n",
    "        cos(theta) - m\n",
    "    \"\"\"\n",
    "\n",
    "    def __init__(self, in_features, out_features, s=30.0, m=0.40):\n",
    "        super(AddMarginProduct, self).__init__()\n",
    "        self.in_features = in_features\n",
    "        self.out_features = out_features\n",
    "        self.s = s\n",
    "        self.m = m\n",
    "        self.weight = Parameter(torch.FloatTensor(out_features, in_features))\n",
    "        nn.init.xavier_uniform_(self.weight)\n",
    "\n",
    "    def forward(self, input, label):\n",
    "        # --------------------------- cos(theta) & phi(theta) ---------------------------\n",
    "        cosine = F.linear(F.normalize(input), F.normalize(self.weight))\n",
    "        phi = cosine - self.m\n",
    "        # --------------------------- convert label to one-hot ---------------------------\n",
    "        one_hot = torch.zeros(cosine.size(), device='cuda')\n",
    "        # one_hot = one_hot.cuda() if cosine.is_cuda else one_hot\n",
    "        one_hot.scatter_(1, label.view(-1, 1).long(), 1)\n",
    "        # -------------torch.where(out_i = {x_i if condition_i else y_i) -------------\n",
    "        output = (one_hot * phi) + ((1.0 - one_hot) * cosine)  # you can use torch.where if your torch.__version__ is 0.4\n",
    "        output *= self.s\n",
    "        # print(output)\n",
    "\n",
    "        return output"
   ]
  },
  {
   "cell_type": "markdown",
   "metadata": {
    "papermill": {
     "duration": 0.017038,
     "end_time": "2021-04-04T00:52:59.476061",
     "exception": false,
     "start_time": "2021-04-04T00:52:59.459023",
     "status": "completed"
    },
    "tags": []
   },
   "source": [
    "# Custom LR"
   ]
  },
  {
   "cell_type": "code",
   "execution_count": 14,
   "metadata": {
    "execution": {
     "iopub.execute_input": "2021-04-04T00:52:59.519578Z",
     "iopub.status.busy": "2021-04-04T00:52:59.518925Z",
     "iopub.status.idle": "2021-04-04T00:52:59.521995Z",
     "shell.execute_reply": "2021-04-04T00:52:59.521427Z"
    },
    "papermill": {
     "duration": 0.028971,
     "end_time": "2021-04-04T00:52:59.522109",
     "exception": false,
     "start_time": "2021-04-04T00:52:59.493138",
     "status": "completed"
    },
    "tags": []
   },
   "outputs": [],
   "source": [
    "class ShopeeScheduler(_LRScheduler):\n",
    "    def __init__(self, optimizer, lr_start=5e-6, lr_max=1e-5,\n",
    "                 lr_min=1e-6, lr_ramp_ep=5, lr_sus_ep=0, lr_decay=0.8,\n",
    "                 last_epoch=-1):\n",
    "        self.lr_start = lr_start\n",
    "        self.lr_max = lr_max\n",
    "        self.lr_min = lr_min\n",
    "        self.lr_ramp_ep = lr_ramp_ep\n",
    "        self.lr_sus_ep = lr_sus_ep\n",
    "        self.lr_decay = lr_decay\n",
    "        super(ShopeeScheduler, self).__init__(optimizer, last_epoch)\n",
    "        \n",
    "    def get_lr(self):\n",
    "        if not self._get_lr_called_within_step:\n",
    "            warnings.warn(\"To get the last learning rate computed by the scheduler, \"\n",
    "                          \"please use `get_last_lr()`.\", UserWarning)\n",
    "        \n",
    "        if self.last_epoch == 0:\n",
    "            self.last_epoch += 1\n",
    "            return [self.lr_start for _ in self.optimizer.param_groups]\n",
    "        \n",
    "        lr = self._compute_lr_from_epoch()\n",
    "        self.last_epoch += 1\n",
    "        \n",
    "        return [lr for _ in self.optimizer.param_groups]\n",
    "    \n",
    "    def _get_closed_form_lr(self):\n",
    "        return self.base_lrs\n",
    "    \n",
    "    def _compute_lr_from_epoch(self):\n",
    "        if self.last_epoch < self.lr_ramp_ep:\n",
    "            lr = ((self.lr_max - self.lr_start) / \n",
    "                  self.lr_ramp_ep * self.last_epoch + \n",
    "                  self.lr_start)\n",
    "        \n",
    "        elif self.last_epoch < self.lr_ramp_ep + self.lr_sus_ep:\n",
    "            lr = self.lr_max\n",
    "            \n",
    "        else:\n",
    "            lr = ((self.lr_max - self.lr_min) * self.lr_decay**\n",
    "                  (self.last_epoch - self.lr_ramp_ep - self.lr_sus_ep) + \n",
    "                  self.lr_min)\n",
    "        return lr"
   ]
  },
  {
   "cell_type": "markdown",
   "metadata": {
    "papermill": {
     "duration": 0.017201,
     "end_time": "2021-04-04T00:52:59.556263",
     "exception": false,
     "start_time": "2021-04-04T00:52:59.539062",
     "status": "completed"
    },
    "tags": []
   },
   "source": [
    "# Training Function"
   ]
  },
  {
   "cell_type": "code",
   "execution_count": 15,
   "metadata": {
    "execution": {
     "iopub.execute_input": "2021-04-04T00:52:59.618003Z",
     "iopub.status.busy": "2021-04-04T00:52:59.617382Z",
     "iopub.status.idle": "2021-04-04T00:52:59.626191Z",
     "shell.execute_reply": "2021-04-04T00:52:59.626857Z"
    },
    "papermill": {
     "duration": 0.046874,
     "end_time": "2021-04-04T00:52:59.627070",
     "exception": false,
     "start_time": "2021-04-04T00:52:59.580196",
     "status": "completed"
    },
    "tags": []
   },
   "outputs": [],
   "source": [
    "def train_fn(dataloader,model,criterion,optimizer,device,scheduler,epoch):\n",
    "    model.train()\n",
    "    loss_score = AverageMeter()\n",
    "    \n",
    "    tk0 = tqdm(enumerate(dataloader), total=len(dataloader))\n",
    "    for bi,d in tk0:\n",
    "        \n",
    "        batch_size = d[0].shape[0]\n",
    "\n",
    "\n",
    "        images = d[0]\n",
    "        targets = d[1]\n",
    "\n",
    "        images = images.to(device)\n",
    "        targets = targets.to(device)\n",
    "\n",
    "        optimizer.zero_grad()\n",
    "\n",
    "        output = model(images,targets)\n",
    "        \n",
    "        loss = criterion(output,targets)\n",
    "        \n",
    "        loss.backward()\n",
    "        optimizer.step()\n",
    "        \n",
    "        loss_score.update(loss.detach().item(), batch_size)\n",
    "        tk0.set_postfix(Train_Loss=loss_score.avg,Epoch=epoch,LR=optimizer.param_groups[0]['lr'])\n",
    "        \n",
    "    if scheduler is not None:\n",
    "            scheduler.step()\n",
    "        \n",
    "    return loss_score"
   ]
  },
  {
   "cell_type": "markdown",
   "metadata": {
    "papermill": {
     "duration": 0.027649,
     "end_time": "2021-04-04T00:52:59.688773",
     "exception": false,
     "start_time": "2021-04-04T00:52:59.661124",
     "status": "completed"
    },
    "tags": []
   },
   "source": [
    "# Evaluation Function"
   ]
  },
  {
   "cell_type": "code",
   "execution_count": 16,
   "metadata": {
    "execution": {
     "iopub.execute_input": "2021-04-04T00:52:59.765498Z",
     "iopub.status.busy": "2021-04-04T00:52:59.764698Z",
     "iopub.status.idle": "2021-04-04T00:52:59.766821Z",
     "shell.execute_reply": "2021-04-04T00:52:59.766188Z"
    },
    "papermill": {
     "duration": 0.044964,
     "end_time": "2021-04-04T00:52:59.766985",
     "exception": false,
     "start_time": "2021-04-04T00:52:59.722021",
     "status": "completed"
    },
    "tags": []
   },
   "outputs": [],
   "source": [
    "def eval_fn(data_loader,model,criterion,device):\n",
    "    \n",
    "    loss_score = AverageMeter()\n",
    "    \n",
    "    model.eval()\n",
    "    TARGETS = []\n",
    "    PREDS = []\n",
    "    tk0 = tqdm(enumerate(data_loader), total=len(data_loader))\n",
    "    \n",
    "    with torch.no_grad():\n",
    "        \n",
    "        for bi,d in tk0:\n",
    "            batch_size = d[0].size()[0]\n",
    "\n",
    "            image = d[0]\n",
    "            targets = d[1]\n",
    "\n",
    "            image = image.to(device)\n",
    "            targets = targets.to(device)\n",
    "            \n",
    "            output = model(image,targets)\n",
    "            \n",
    "            PREDS += [torch.argmax(logits, 1).detach().cpu()]\n",
    "            TARGETS += [targets.detach().cpu()]\n",
    "\n",
    "            loss = criterion(output,targets)\n",
    "            \n",
    "            loss_score.update(loss.detach().item(), batch_size)\n",
    "            tk0.set_postfix(Eval_Loss=loss_score.avg)\n",
    "            \n",
    "        PREDS = torch.cat(PREDS).cpu().numpy()\n",
    "        TARGETS = torch.cat(TARGETS).cpu().numpy()\n",
    "        accuracy = (PREDS==TARGETS).mean()\n",
    "            \n",
    "    return loss_score, accuracy"
   ]
  },
  {
   "cell_type": "markdown",
   "metadata": {
    "papermill": {
     "duration": 0.031084,
     "end_time": "2021-04-04T00:52:59.828640",
     "exception": false,
     "start_time": "2021-04-04T00:52:59.797556",
     "status": "completed"
    },
    "tags": []
   },
   "source": [
    "# Engine"
   ]
  },
  {
   "cell_type": "code",
   "execution_count": 17,
   "metadata": {
    "execution": {
     "iopub.execute_input": "2021-04-04T00:52:59.896434Z",
     "iopub.status.busy": "2021-04-04T00:52:59.895927Z",
     "iopub.status.idle": "2021-04-04T00:53:00.206076Z",
     "shell.execute_reply": "2021-04-04T00:53:00.206747Z"
    },
    "papermill": {
     "duration": 0.34796,
     "end_time": "2021-04-04T00:53:00.206993",
     "exception": false,
     "start_time": "2021-04-04T00:52:59.859033",
     "status": "completed"
    },
    "tags": []
   },
   "outputs": [],
   "source": [
    "data = pd.read_csv('../input/shopee-folds/train_folds.csv')\n",
    "# data['filepath'] = data['image'].apply(lambda x: os.path.join('../input/shopee-product-matching/', 'train_images', x))"
   ]
  },
  {
   "cell_type": "code",
   "execution_count": 18,
   "metadata": {
    "execution": {
     "iopub.execute_input": "2021-04-04T00:53:00.327140Z",
     "iopub.status.busy": "2021-04-04T00:53:00.326411Z",
     "iopub.status.idle": "2021-04-04T00:53:00.345914Z",
     "shell.execute_reply": "2021-04-04T00:53:00.346875Z"
    },
    "papermill": {
     "duration": 0.100877,
     "end_time": "2021-04-04T00:53:00.347063",
     "exception": false,
     "start_time": "2021-04-04T00:53:00.246186",
     "status": "completed"
    },
    "tags": []
   },
   "outputs": [
    {
     "data": {
      "text/html": [
       "<div>\n",
       "<style scoped>\n",
       "    .dataframe tbody tr th:only-of-type {\n",
       "        vertical-align: middle;\n",
       "    }\n",
       "\n",
       "    .dataframe tbody tr th {\n",
       "        vertical-align: top;\n",
       "    }\n",
       "\n",
       "    .dataframe thead th {\n",
       "        text-align: right;\n",
       "    }\n",
       "</style>\n",
       "<table border=\"1\" class=\"dataframe\">\n",
       "  <thead>\n",
       "    <tr style=\"text-align: right;\">\n",
       "      <th></th>\n",
       "      <th>posting_id</th>\n",
       "      <th>image</th>\n",
       "      <th>image_phash</th>\n",
       "      <th>title</th>\n",
       "      <th>label_group</th>\n",
       "      <th>file_path</th>\n",
       "      <th>group</th>\n",
       "      <th>fold</th>\n",
       "    </tr>\n",
       "  </thead>\n",
       "  <tbody>\n",
       "    <tr>\n",
       "      <th>0</th>\n",
       "      <td>train_129225211</td>\n",
       "      <td>0000a68812bc7e98c42888dfb1c07da0.jpg</td>\n",
       "      <td>94974f937d4c2433</td>\n",
       "      <td>Paper Bag Victoria Secret</td>\n",
       "      <td>249114794</td>\n",
       "      <td>../input/shopee-product-matching/train_images/...</td>\n",
       "      <td>1475</td>\n",
       "      <td>2</td>\n",
       "    </tr>\n",
       "    <tr>\n",
       "      <th>1</th>\n",
       "      <td>train_3386243561</td>\n",
       "      <td>00039780dfc94d01db8676fe789ecd05.jpg</td>\n",
       "      <td>af3f9460c2838f0f</td>\n",
       "      <td>Double Tape 3M VHB 12 mm x 4,5 m ORIGINAL / DO...</td>\n",
       "      <td>2937985045</td>\n",
       "      <td>../input/shopee-product-matching/train_images/...</td>\n",
       "      <td>4395</td>\n",
       "      <td>2</td>\n",
       "    </tr>\n",
       "    <tr>\n",
       "      <th>2</th>\n",
       "      <td>train_2288590299</td>\n",
       "      <td>000a190fdd715a2a36faed16e2c65df7.jpg</td>\n",
       "      <td>b94cb00ed3e50f78</td>\n",
       "      <td>Maling TTS Canned Pork Luncheon Meat 397 gr</td>\n",
       "      <td>2395904891</td>\n",
       "      <td>../input/shopee-product-matching/train_images/...</td>\n",
       "      <td>6202</td>\n",
       "      <td>0</td>\n",
       "    </tr>\n",
       "    <tr>\n",
       "      <th>3</th>\n",
       "      <td>train_2406599165</td>\n",
       "      <td>00117e4fc239b1b641ff08340b429633.jpg</td>\n",
       "      <td>8514fc58eafea283</td>\n",
       "      <td>Daster Batik Lengan pendek - Motif Acak / Camp...</td>\n",
       "      <td>4093212188</td>\n",
       "      <td>../input/shopee-product-matching/train_images/...</td>\n",
       "      <td>409</td>\n",
       "      <td>0</td>\n",
       "    </tr>\n",
       "    <tr>\n",
       "      <th>4</th>\n",
       "      <td>train_3369186413</td>\n",
       "      <td>00136d1cf4edede0203f32f05f660588.jpg</td>\n",
       "      <td>a6f319f924ad708c</td>\n",
       "      <td>Nescafe \\xc3\\x89clair Latte 220ml</td>\n",
       "      <td>3648931069</td>\n",
       "      <td>../input/shopee-product-matching/train_images/...</td>\n",
       "      <td>3063</td>\n",
       "      <td>3</td>\n",
       "    </tr>\n",
       "  </tbody>\n",
       "</table>\n",
       "</div>"
      ],
      "text/plain": [
       "         posting_id                                 image       image_phash  \\\n",
       "0   train_129225211  0000a68812bc7e98c42888dfb1c07da0.jpg  94974f937d4c2433   \n",
       "1  train_3386243561  00039780dfc94d01db8676fe789ecd05.jpg  af3f9460c2838f0f   \n",
       "2  train_2288590299  000a190fdd715a2a36faed16e2c65df7.jpg  b94cb00ed3e50f78   \n",
       "3  train_2406599165  00117e4fc239b1b641ff08340b429633.jpg  8514fc58eafea283   \n",
       "4  train_3369186413  00136d1cf4edede0203f32f05f660588.jpg  a6f319f924ad708c   \n",
       "\n",
       "                                               title  label_group  \\\n",
       "0                          Paper Bag Victoria Secret    249114794   \n",
       "1  Double Tape 3M VHB 12 mm x 4,5 m ORIGINAL / DO...   2937985045   \n",
       "2        Maling TTS Canned Pork Luncheon Meat 397 gr   2395904891   \n",
       "3  Daster Batik Lengan pendek - Motif Acak / Camp...   4093212188   \n",
       "4                  Nescafe \\xc3\\x89clair Latte 220ml   3648931069   \n",
       "\n",
       "                                           file_path  group  fold  \n",
       "0  ../input/shopee-product-matching/train_images/...   1475     2  \n",
       "1  ../input/shopee-product-matching/train_images/...   4395     2  \n",
       "2  ../input/shopee-product-matching/train_images/...   6202     0  \n",
       "3  ../input/shopee-product-matching/train_images/...    409     0  \n",
       "4  ../input/shopee-product-matching/train_images/...   3063     3  "
      ]
     },
     "execution_count": 18,
     "metadata": {},
     "output_type": "execute_result"
    }
   ],
   "source": [
    "data.head()"
   ]
  },
  {
   "cell_type": "code",
   "execution_count": 19,
   "metadata": {
    "execution": {
     "iopub.execute_input": "2021-04-04T00:53:00.409769Z",
     "iopub.status.busy": "2021-04-04T00:53:00.408994Z",
     "iopub.status.idle": "2021-04-04T00:53:00.410951Z",
     "shell.execute_reply": "2021-04-04T00:53:00.410407Z"
    },
    "papermill": {
     "duration": 0.034924,
     "end_time": "2021-04-04T00:53:00.411084",
     "exception": false,
     "start_time": "2021-04-04T00:53:00.376160",
     "status": "completed"
    },
    "tags": []
   },
   "outputs": [],
   "source": [
    "# encoder = LabelEncoder()\n",
    "# data['label_group'] = encoder.fit_transform(data['label_group'])"
   ]
  },
  {
   "cell_type": "code",
   "execution_count": 20,
   "metadata": {
    "execution": {
     "iopub.execute_input": "2021-04-04T00:53:00.690132Z",
     "iopub.status.busy": "2021-04-04T00:53:00.689220Z",
     "iopub.status.idle": "2021-04-04T01:18:30.328877Z",
     "shell.execute_reply": "2021-04-04T01:18:30.330603Z"
    },
    "papermill": {
     "duration": 1529.671228,
     "end_time": "2021-04-04T01:18:30.330900",
     "exception": false,
     "start_time": "2021-04-04T00:53:00.659672",
     "status": "completed"
    },
    "tags": []
   },
   "outputs": [
    {
     "name": "stdout",
     "output_type": "stream",
     "text": [
      "Building Model Backbone for efficientnet_b3 model\n"
     ]
    },
    {
     "name": "stderr",
     "output_type": "stream",
     "text": [
      "Downloading: \"https://github.com/rwightman/pytorch-image-models/releases/download/v0.1-weights/efficientnet_b3_ra2-cf984f9c.pth\" to /root/.cache/torch/hub/checkpoints/efficientnet_b3_ra2-cf984f9c.pth\n",
      "100%|██████████| 1712/1712 [25:21<00:00,  1.13it/s, Epoch=0, LR=1e-5, Train_Loss=23.5]\n",
      "  0%|          | 0/429 [00:01<?, ?it/s]\n"
     ]
    },
    {
     "ename": "RuntimeError",
     "evalue": "Expected 4-dimensional input for 4-dimensional weight [40, 3, 3, 3], but got 3-dimensional input of size [3, 512, 512] instead",
     "output_type": "error",
     "traceback": [
      "\u001b[0;31m---------------------------------------------------------------------------\u001b[0m",
      "\u001b[0;31mRuntimeError\u001b[0m                              Traceback (most recent call last)",
      "\u001b[0;32m<ipython-input-20-70b8a5ce02fd>\u001b[0m in \u001b[0;36m<module>\u001b[0;34m\u001b[0m\n\u001b[1;32m     53\u001b[0m         \u001b[0mtrain_loss\u001b[0m \u001b[0;34m=\u001b[0m \u001b[0mtrain_fn\u001b[0m\u001b[0;34m(\u001b[0m\u001b[0mtrain_loader\u001b[0m\u001b[0;34m,\u001b[0m \u001b[0mmodel\u001b[0m\u001b[0;34m,\u001b[0m\u001b[0mcriterion\u001b[0m\u001b[0;34m,\u001b[0m \u001b[0moptimizer\u001b[0m\u001b[0;34m,\u001b[0m \u001b[0mdevice\u001b[0m\u001b[0;34m,\u001b[0m\u001b[0mscheduler\u001b[0m\u001b[0;34m=\u001b[0m\u001b[0mscheduler\u001b[0m\u001b[0;34m,\u001b[0m\u001b[0mepoch\u001b[0m\u001b[0;34m=\u001b[0m\u001b[0mepoch\u001b[0m\u001b[0;34m)\u001b[0m\u001b[0;34m\u001b[0m\u001b[0;34m\u001b[0m\u001b[0m\n\u001b[1;32m     54\u001b[0m \u001b[0;34m\u001b[0m\u001b[0m\n\u001b[0;32m---> 55\u001b[0;31m         \u001b[0mvalid_loss\u001b[0m \u001b[0;34m=\u001b[0m \u001b[0meval_fn\u001b[0m\u001b[0;34m(\u001b[0m\u001b[0mvalid_loader\u001b[0m\u001b[0;34m,\u001b[0m \u001b[0mmodel\u001b[0m\u001b[0;34m,\u001b[0m \u001b[0mcriterion\u001b[0m\u001b[0;34m,\u001b[0m\u001b[0mdevice\u001b[0m\u001b[0;34m)\u001b[0m\u001b[0;34m\u001b[0m\u001b[0;34m\u001b[0m\u001b[0m\n\u001b[0m\u001b[1;32m     56\u001b[0m \u001b[0;34m\u001b[0m\u001b[0m\n\u001b[1;32m     57\u001b[0m         \u001b[0;32mif\u001b[0m \u001b[0mvalid_loss\u001b[0m\u001b[0;34m.\u001b[0m\u001b[0mavg\u001b[0m \u001b[0;34m<\u001b[0m \u001b[0mbest_loss\u001b[0m\u001b[0;34m:\u001b[0m\u001b[0;34m\u001b[0m\u001b[0;34m\u001b[0m\u001b[0m\n",
      "\u001b[0;32m<ipython-input-16-81b077a8d9c5>\u001b[0m in \u001b[0;36meval_fn\u001b[0;34m(data_loader, model, criterion, device)\u001b[0m\n\u001b[1;32m     19\u001b[0m             \u001b[0mtargets\u001b[0m \u001b[0;34m=\u001b[0m \u001b[0mtargets\u001b[0m\u001b[0;34m.\u001b[0m\u001b[0mto\u001b[0m\u001b[0;34m(\u001b[0m\u001b[0mdevice\u001b[0m\u001b[0;34m)\u001b[0m\u001b[0;34m\u001b[0m\u001b[0;34m\u001b[0m\u001b[0m\n\u001b[1;32m     20\u001b[0m \u001b[0;34m\u001b[0m\u001b[0m\n\u001b[0;32m---> 21\u001b[0;31m             \u001b[0moutput\u001b[0m \u001b[0;34m=\u001b[0m \u001b[0mmodel\u001b[0m\u001b[0;34m(\u001b[0m\u001b[0mimage\u001b[0m\u001b[0;34m,\u001b[0m\u001b[0mtargets\u001b[0m\u001b[0;34m)\u001b[0m\u001b[0;34m\u001b[0m\u001b[0;34m\u001b[0m\u001b[0m\n\u001b[0m\u001b[1;32m     22\u001b[0m \u001b[0;34m\u001b[0m\u001b[0m\n\u001b[1;32m     23\u001b[0m             \u001b[0mPREDS\u001b[0m \u001b[0;34m+=\u001b[0m \u001b[0;34m[\u001b[0m\u001b[0mtorch\u001b[0m\u001b[0;34m.\u001b[0m\u001b[0margmax\u001b[0m\u001b[0;34m(\u001b[0m\u001b[0mlogits\u001b[0m\u001b[0;34m,\u001b[0m \u001b[0;36m1\u001b[0m\u001b[0;34m)\u001b[0m\u001b[0;34m.\u001b[0m\u001b[0mdetach\u001b[0m\u001b[0;34m(\u001b[0m\u001b[0;34m)\u001b[0m\u001b[0;34m.\u001b[0m\u001b[0mcpu\u001b[0m\u001b[0;34m(\u001b[0m\u001b[0;34m)\u001b[0m\u001b[0;34m]\u001b[0m\u001b[0;34m\u001b[0m\u001b[0;34m\u001b[0m\u001b[0m\n",
      "\u001b[0;32m/opt/conda/lib/python3.7/site-packages/torch/nn/modules/module.py\u001b[0m in \u001b[0;36m_call_impl\u001b[0;34m(self, *input, **kwargs)\u001b[0m\n\u001b[1;32m    725\u001b[0m             \u001b[0mresult\u001b[0m \u001b[0;34m=\u001b[0m \u001b[0mself\u001b[0m\u001b[0;34m.\u001b[0m\u001b[0m_slow_forward\u001b[0m\u001b[0;34m(\u001b[0m\u001b[0;34m*\u001b[0m\u001b[0minput\u001b[0m\u001b[0;34m,\u001b[0m \u001b[0;34m**\u001b[0m\u001b[0mkwargs\u001b[0m\u001b[0;34m)\u001b[0m\u001b[0;34m\u001b[0m\u001b[0;34m\u001b[0m\u001b[0m\n\u001b[1;32m    726\u001b[0m         \u001b[0;32melse\u001b[0m\u001b[0;34m:\u001b[0m\u001b[0;34m\u001b[0m\u001b[0;34m\u001b[0m\u001b[0m\n\u001b[0;32m--> 727\u001b[0;31m             \u001b[0mresult\u001b[0m \u001b[0;34m=\u001b[0m \u001b[0mself\u001b[0m\u001b[0;34m.\u001b[0m\u001b[0mforward\u001b[0m\u001b[0;34m(\u001b[0m\u001b[0;34m*\u001b[0m\u001b[0minput\u001b[0m\u001b[0;34m,\u001b[0m \u001b[0;34m**\u001b[0m\u001b[0mkwargs\u001b[0m\u001b[0;34m)\u001b[0m\u001b[0;34m\u001b[0m\u001b[0;34m\u001b[0m\u001b[0m\n\u001b[0m\u001b[1;32m    728\u001b[0m         for hook in itertools.chain(\n\u001b[1;32m    729\u001b[0m                 \u001b[0m_global_forward_hooks\u001b[0m\u001b[0;34m.\u001b[0m\u001b[0mvalues\u001b[0m\u001b[0;34m(\u001b[0m\u001b[0;34m)\u001b[0m\u001b[0;34m,\u001b[0m\u001b[0;34m\u001b[0m\u001b[0;34m\u001b[0m\u001b[0m\n",
      "\u001b[0;32m<ipython-input-10-20ecabddf97e>\u001b[0m in \u001b[0;36mforward\u001b[0;34m(self, x, label)\u001b[0m\n\u001b[1;32m     57\u001b[0m \u001b[0;34m\u001b[0m\u001b[0m\n\u001b[1;32m     58\u001b[0m     \u001b[0;32mdef\u001b[0m \u001b[0mforward\u001b[0m\u001b[0;34m(\u001b[0m\u001b[0mself\u001b[0m\u001b[0;34m,\u001b[0m \u001b[0mx\u001b[0m\u001b[0;34m,\u001b[0m \u001b[0mlabel\u001b[0m\u001b[0;34m)\u001b[0m\u001b[0;34m:\u001b[0m\u001b[0;34m\u001b[0m\u001b[0;34m\u001b[0m\u001b[0m\n\u001b[0;32m---> 59\u001b[0;31m         \u001b[0mfeature\u001b[0m \u001b[0;34m=\u001b[0m \u001b[0mself\u001b[0m\u001b[0;34m.\u001b[0m\u001b[0mextract_feat\u001b[0m\u001b[0;34m(\u001b[0m\u001b[0mx\u001b[0m\u001b[0;34m)\u001b[0m\u001b[0;34m\u001b[0m\u001b[0;34m\u001b[0m\u001b[0m\n\u001b[0m\u001b[1;32m     60\u001b[0m         \u001b[0;32mif\u001b[0m \u001b[0mself\u001b[0m\u001b[0;34m.\u001b[0m\u001b[0mloss_module\u001b[0m \u001b[0;32min\u001b[0m \u001b[0;34m(\u001b[0m\u001b[0;34m'arcface'\u001b[0m\u001b[0;34m,\u001b[0m \u001b[0;34m'cosface'\u001b[0m\u001b[0;34m,\u001b[0m \u001b[0;34m'adacos'\u001b[0m\u001b[0;34m)\u001b[0m\u001b[0;34m:\u001b[0m\u001b[0;34m\u001b[0m\u001b[0;34m\u001b[0m\u001b[0m\n\u001b[1;32m     61\u001b[0m             \u001b[0mlogits\u001b[0m \u001b[0;34m=\u001b[0m \u001b[0mself\u001b[0m\u001b[0;34m.\u001b[0m\u001b[0mfinal\u001b[0m\u001b[0;34m(\u001b[0m\u001b[0mfeature\u001b[0m\u001b[0;34m,\u001b[0m \u001b[0mlabel\u001b[0m\u001b[0;34m)\u001b[0m\u001b[0;34m\u001b[0m\u001b[0;34m\u001b[0m\u001b[0m\n",
      "\u001b[0;32m<ipython-input-10-20ecabddf97e>\u001b[0m in \u001b[0;36mextract_feat\u001b[0;34m(self, x)\u001b[0m\n\u001b[1;32m     66\u001b[0m     \u001b[0;32mdef\u001b[0m \u001b[0mextract_feat\u001b[0m\u001b[0;34m(\u001b[0m\u001b[0mself\u001b[0m\u001b[0;34m,\u001b[0m \u001b[0mx\u001b[0m\u001b[0;34m)\u001b[0m\u001b[0;34m:\u001b[0m\u001b[0;34m\u001b[0m\u001b[0;34m\u001b[0m\u001b[0m\n\u001b[1;32m     67\u001b[0m         \u001b[0mbatch_size\u001b[0m \u001b[0;34m=\u001b[0m \u001b[0mx\u001b[0m\u001b[0;34m.\u001b[0m\u001b[0mshape\u001b[0m\u001b[0;34m[\u001b[0m\u001b[0;36m0\u001b[0m\u001b[0;34m]\u001b[0m\u001b[0;34m\u001b[0m\u001b[0;34m\u001b[0m\u001b[0m\n\u001b[0;32m---> 68\u001b[0;31m         \u001b[0mx\u001b[0m \u001b[0;34m=\u001b[0m \u001b[0mself\u001b[0m\u001b[0;34m.\u001b[0m\u001b[0mbackbone\u001b[0m\u001b[0;34m(\u001b[0m\u001b[0mx\u001b[0m\u001b[0;34m)\u001b[0m\u001b[0;34m\u001b[0m\u001b[0;34m\u001b[0m\u001b[0m\n\u001b[0m\u001b[1;32m     69\u001b[0m         \u001b[0mx\u001b[0m \u001b[0;34m=\u001b[0m \u001b[0mself\u001b[0m\u001b[0;34m.\u001b[0m\u001b[0mpooling\u001b[0m\u001b[0;34m(\u001b[0m\u001b[0mx\u001b[0m\u001b[0;34m)\u001b[0m\u001b[0;34m.\u001b[0m\u001b[0mview\u001b[0m\u001b[0;34m(\u001b[0m\u001b[0mbatch_size\u001b[0m\u001b[0;34m,\u001b[0m \u001b[0;34m-\u001b[0m\u001b[0;36m1\u001b[0m\u001b[0;34m)\u001b[0m\u001b[0;34m\u001b[0m\u001b[0;34m\u001b[0m\u001b[0m\n\u001b[1;32m     70\u001b[0m \u001b[0;34m\u001b[0m\u001b[0m\n",
      "\u001b[0;32m/opt/conda/lib/python3.7/site-packages/torch/nn/modules/module.py\u001b[0m in \u001b[0;36m_call_impl\u001b[0;34m(self, *input, **kwargs)\u001b[0m\n\u001b[1;32m    725\u001b[0m             \u001b[0mresult\u001b[0m \u001b[0;34m=\u001b[0m \u001b[0mself\u001b[0m\u001b[0;34m.\u001b[0m\u001b[0m_slow_forward\u001b[0m\u001b[0;34m(\u001b[0m\u001b[0;34m*\u001b[0m\u001b[0minput\u001b[0m\u001b[0;34m,\u001b[0m \u001b[0;34m**\u001b[0m\u001b[0mkwargs\u001b[0m\u001b[0;34m)\u001b[0m\u001b[0;34m\u001b[0m\u001b[0;34m\u001b[0m\u001b[0m\n\u001b[1;32m    726\u001b[0m         \u001b[0;32melse\u001b[0m\u001b[0;34m:\u001b[0m\u001b[0;34m\u001b[0m\u001b[0;34m\u001b[0m\u001b[0m\n\u001b[0;32m--> 727\u001b[0;31m             \u001b[0mresult\u001b[0m \u001b[0;34m=\u001b[0m \u001b[0mself\u001b[0m\u001b[0;34m.\u001b[0m\u001b[0mforward\u001b[0m\u001b[0;34m(\u001b[0m\u001b[0;34m*\u001b[0m\u001b[0minput\u001b[0m\u001b[0;34m,\u001b[0m \u001b[0;34m**\u001b[0m\u001b[0mkwargs\u001b[0m\u001b[0;34m)\u001b[0m\u001b[0;34m\u001b[0m\u001b[0;34m\u001b[0m\u001b[0m\n\u001b[0m\u001b[1;32m    728\u001b[0m         for hook in itertools.chain(\n\u001b[1;32m    729\u001b[0m                 \u001b[0m_global_forward_hooks\u001b[0m\u001b[0;34m.\u001b[0m\u001b[0mvalues\u001b[0m\u001b[0;34m(\u001b[0m\u001b[0;34m)\u001b[0m\u001b[0;34m,\u001b[0m\u001b[0;34m\u001b[0m\u001b[0;34m\u001b[0m\u001b[0m\n",
      "\u001b[0;32m/kaggle/input/pytorch-image-models/pytorch-image-models-master/timm/models/efficientnet.py\u001b[0m in \u001b[0;36mforward\u001b[0;34m(self, x)\u001b[0m\n\u001b[1;32m    389\u001b[0m \u001b[0;34m\u001b[0m\u001b[0m\n\u001b[1;32m    390\u001b[0m     \u001b[0;32mdef\u001b[0m \u001b[0mforward\u001b[0m\u001b[0;34m(\u001b[0m\u001b[0mself\u001b[0m\u001b[0;34m,\u001b[0m \u001b[0mx\u001b[0m\u001b[0;34m)\u001b[0m\u001b[0;34m:\u001b[0m\u001b[0;34m\u001b[0m\u001b[0;34m\u001b[0m\u001b[0m\n\u001b[0;32m--> 391\u001b[0;31m         \u001b[0mx\u001b[0m \u001b[0;34m=\u001b[0m \u001b[0mself\u001b[0m\u001b[0;34m.\u001b[0m\u001b[0mforward_features\u001b[0m\u001b[0;34m(\u001b[0m\u001b[0mx\u001b[0m\u001b[0;34m)\u001b[0m\u001b[0;34m\u001b[0m\u001b[0;34m\u001b[0m\u001b[0m\n\u001b[0m\u001b[1;32m    392\u001b[0m         \u001b[0mx\u001b[0m \u001b[0;34m=\u001b[0m \u001b[0mself\u001b[0m\u001b[0;34m.\u001b[0m\u001b[0mglobal_pool\u001b[0m\u001b[0;34m(\u001b[0m\u001b[0mx\u001b[0m\u001b[0;34m)\u001b[0m\u001b[0;34m\u001b[0m\u001b[0;34m\u001b[0m\u001b[0m\n\u001b[1;32m    393\u001b[0m         \u001b[0;32mif\u001b[0m \u001b[0mself\u001b[0m\u001b[0;34m.\u001b[0m\u001b[0mdrop_rate\u001b[0m \u001b[0;34m>\u001b[0m \u001b[0;36m0.\u001b[0m\u001b[0;34m:\u001b[0m\u001b[0;34m\u001b[0m\u001b[0;34m\u001b[0m\u001b[0m\n",
      "\u001b[0;32m/kaggle/input/pytorch-image-models/pytorch-image-models-master/timm/models/efficientnet.py\u001b[0m in \u001b[0;36mforward_features\u001b[0;34m(self, x)\u001b[0m\n\u001b[1;32m    379\u001b[0m \u001b[0;34m\u001b[0m\u001b[0m\n\u001b[1;32m    380\u001b[0m     \u001b[0;32mdef\u001b[0m \u001b[0mforward_features\u001b[0m\u001b[0;34m(\u001b[0m\u001b[0mself\u001b[0m\u001b[0;34m,\u001b[0m \u001b[0mx\u001b[0m\u001b[0;34m)\u001b[0m\u001b[0;34m:\u001b[0m\u001b[0;34m\u001b[0m\u001b[0;34m\u001b[0m\u001b[0m\n\u001b[0;32m--> 381\u001b[0;31m         \u001b[0mx\u001b[0m \u001b[0;34m=\u001b[0m \u001b[0mself\u001b[0m\u001b[0;34m.\u001b[0m\u001b[0mconv_stem\u001b[0m\u001b[0;34m(\u001b[0m\u001b[0mx\u001b[0m\u001b[0;34m)\u001b[0m\u001b[0;34m\u001b[0m\u001b[0;34m\u001b[0m\u001b[0m\n\u001b[0m\u001b[1;32m    382\u001b[0m         \u001b[0mx\u001b[0m \u001b[0;34m=\u001b[0m \u001b[0mself\u001b[0m\u001b[0;34m.\u001b[0m\u001b[0mbn1\u001b[0m\u001b[0;34m(\u001b[0m\u001b[0mx\u001b[0m\u001b[0;34m)\u001b[0m\u001b[0;34m\u001b[0m\u001b[0;34m\u001b[0m\u001b[0m\n\u001b[1;32m    383\u001b[0m         \u001b[0mx\u001b[0m \u001b[0;34m=\u001b[0m \u001b[0mself\u001b[0m\u001b[0;34m.\u001b[0m\u001b[0mact1\u001b[0m\u001b[0;34m(\u001b[0m\u001b[0mx\u001b[0m\u001b[0;34m)\u001b[0m\u001b[0;34m\u001b[0m\u001b[0;34m\u001b[0m\u001b[0m\n",
      "\u001b[0;32m/opt/conda/lib/python3.7/site-packages/torch/nn/modules/module.py\u001b[0m in \u001b[0;36m_call_impl\u001b[0;34m(self, *input, **kwargs)\u001b[0m\n\u001b[1;32m    725\u001b[0m             \u001b[0mresult\u001b[0m \u001b[0;34m=\u001b[0m \u001b[0mself\u001b[0m\u001b[0;34m.\u001b[0m\u001b[0m_slow_forward\u001b[0m\u001b[0;34m(\u001b[0m\u001b[0;34m*\u001b[0m\u001b[0minput\u001b[0m\u001b[0;34m,\u001b[0m \u001b[0;34m**\u001b[0m\u001b[0mkwargs\u001b[0m\u001b[0;34m)\u001b[0m\u001b[0;34m\u001b[0m\u001b[0;34m\u001b[0m\u001b[0m\n\u001b[1;32m    726\u001b[0m         \u001b[0;32melse\u001b[0m\u001b[0;34m:\u001b[0m\u001b[0;34m\u001b[0m\u001b[0;34m\u001b[0m\u001b[0m\n\u001b[0;32m--> 727\u001b[0;31m             \u001b[0mresult\u001b[0m \u001b[0;34m=\u001b[0m \u001b[0mself\u001b[0m\u001b[0;34m.\u001b[0m\u001b[0mforward\u001b[0m\u001b[0;34m(\u001b[0m\u001b[0;34m*\u001b[0m\u001b[0minput\u001b[0m\u001b[0;34m,\u001b[0m \u001b[0;34m**\u001b[0m\u001b[0mkwargs\u001b[0m\u001b[0;34m)\u001b[0m\u001b[0;34m\u001b[0m\u001b[0;34m\u001b[0m\u001b[0m\n\u001b[0m\u001b[1;32m    728\u001b[0m         for hook in itertools.chain(\n\u001b[1;32m    729\u001b[0m                 \u001b[0m_global_forward_hooks\u001b[0m\u001b[0;34m.\u001b[0m\u001b[0mvalues\u001b[0m\u001b[0;34m(\u001b[0m\u001b[0;34m)\u001b[0m\u001b[0;34m,\u001b[0m\u001b[0;34m\u001b[0m\u001b[0;34m\u001b[0m\u001b[0m\n",
      "\u001b[0;32m/opt/conda/lib/python3.7/site-packages/torch/nn/modules/conv.py\u001b[0m in \u001b[0;36mforward\u001b[0;34m(self, input)\u001b[0m\n\u001b[1;32m    421\u001b[0m \u001b[0;34m\u001b[0m\u001b[0m\n\u001b[1;32m    422\u001b[0m     \u001b[0;32mdef\u001b[0m \u001b[0mforward\u001b[0m\u001b[0;34m(\u001b[0m\u001b[0mself\u001b[0m\u001b[0;34m,\u001b[0m \u001b[0minput\u001b[0m\u001b[0;34m:\u001b[0m \u001b[0mTensor\u001b[0m\u001b[0;34m)\u001b[0m \u001b[0;34m->\u001b[0m \u001b[0mTensor\u001b[0m\u001b[0;34m:\u001b[0m\u001b[0;34m\u001b[0m\u001b[0;34m\u001b[0m\u001b[0m\n\u001b[0;32m--> 423\u001b[0;31m         \u001b[0;32mreturn\u001b[0m \u001b[0mself\u001b[0m\u001b[0;34m.\u001b[0m\u001b[0m_conv_forward\u001b[0m\u001b[0;34m(\u001b[0m\u001b[0minput\u001b[0m\u001b[0;34m,\u001b[0m \u001b[0mself\u001b[0m\u001b[0;34m.\u001b[0m\u001b[0mweight\u001b[0m\u001b[0;34m)\u001b[0m\u001b[0;34m\u001b[0m\u001b[0;34m\u001b[0m\u001b[0m\n\u001b[0m\u001b[1;32m    424\u001b[0m \u001b[0;34m\u001b[0m\u001b[0m\n\u001b[1;32m    425\u001b[0m \u001b[0;32mclass\u001b[0m \u001b[0mConv3d\u001b[0m\u001b[0;34m(\u001b[0m\u001b[0m_ConvNd\u001b[0m\u001b[0;34m)\u001b[0m\u001b[0;34m:\u001b[0m\u001b[0;34m\u001b[0m\u001b[0;34m\u001b[0m\u001b[0m\n",
      "\u001b[0;32m/opt/conda/lib/python3.7/site-packages/torch/nn/modules/conv.py\u001b[0m in \u001b[0;36m_conv_forward\u001b[0;34m(self, input, weight)\u001b[0m\n\u001b[1;32m    418\u001b[0m                             _pair(0), self.dilation, self.groups)\n\u001b[1;32m    419\u001b[0m         return F.conv2d(input, weight, self.bias, self.stride,\n\u001b[0;32m--> 420\u001b[0;31m                         self.padding, self.dilation, self.groups)\n\u001b[0m\u001b[1;32m    421\u001b[0m \u001b[0;34m\u001b[0m\u001b[0m\n\u001b[1;32m    422\u001b[0m     \u001b[0;32mdef\u001b[0m \u001b[0mforward\u001b[0m\u001b[0;34m(\u001b[0m\u001b[0mself\u001b[0m\u001b[0;34m,\u001b[0m \u001b[0minput\u001b[0m\u001b[0;34m:\u001b[0m \u001b[0mTensor\u001b[0m\u001b[0;34m)\u001b[0m \u001b[0;34m->\u001b[0m \u001b[0mTensor\u001b[0m\u001b[0;34m:\u001b[0m\u001b[0;34m\u001b[0m\u001b[0;34m\u001b[0m\u001b[0m\n",
      "\u001b[0;31mRuntimeError\u001b[0m: Expected 4-dimensional input for 4-dimensional weight [40, 3, 3, 3], but got 3-dimensional input of size [3, 512, 512] instead"
     ]
    }
   ],
   "source": [
    "if __name__ == \"__main__\":\n",
    "        \n",
    "    train = data[data['fold'] != fold_id].reset_index(drop=True)\n",
    "    valid = data[data['fold'] == fold_id].reset_index(drop=True)\n",
    "    # Defining DataSet\n",
    "    dataset_train = ShopeeDataset(train, 'train', transform = transforms_train(), do_fmix=True, do_cutmix=False)\n",
    "    dataset_valid = ShopeeDataset(valid, 'test', transform = transforms_valid())\n",
    "        \n",
    "    train_loader = torch.utils.data.DataLoader(\n",
    "        dataset_train,\n",
    "        batch_size=TRAIN_BATCH_SIZE,\n",
    "        pin_memory=True,\n",
    "        drop_last=True,\n",
    "        num_workers=NUM_WORKERS\n",
    "    )\n",
    "    \n",
    "    valid_loader = torch.utils.data.DataLoader(\n",
    "        dataset_valid,\n",
    "        batch_size=VALID_BATCH_SIZE,\n",
    "        num_workers=NUM_WORKERS,\n",
    "        shuffle=False,\n",
    "        pin_memory=True,\n",
    "        drop_last=False,\n",
    "    )\n",
    "    \n",
    "    # Defining Device\n",
    "    device = torch.device(\"cuda\")\n",
    "    \n",
    "    # Defining Model for specific fold\n",
    "    model = ShopeeNet(**model_params)\n",
    "    model.to(device)\n",
    "    \n",
    "    #DEfining criterion\n",
    "    criterion = fetch_loss()\n",
    "    criterion.to(device)\n",
    "        \n",
    "    # Defining Optimizer with weight decay to params other than bias and layer norms\n",
    "#     param_optimizer = list(model.named_parameters())\n",
    "#     no_decay = [\"bias\", \"LayerNorm.bias\", \"LayerNorm.weight\"]\n",
    "#     optimizer_parameters = [\n",
    "#         {'params': [p for n, p in param_optimizer if not any(nd in n for nd in no_decay)], 'weight_decay': 0.001},\n",
    "#         {'params': [p for n, p in param_optimizer if any(nd in n for nd in no_decay)], 'weight_decay': 0.0},\n",
    "#             ]  \n",
    "    \n",
    "    optimizer = torch.optim.Adam(model.parameters(), lr=scheduler_params['lr_start'])\n",
    "    \n",
    "    #Defining LR SCheduler\n",
    "    scheduler = ShopeeScheduler(optimizer,**scheduler_params)\n",
    "        \n",
    "    # THE ENGINE LOOP\n",
    "    best_loss = 10000\n",
    "    for epoch in range(EPOCHS):\n",
    "        train_loss = train_fn(train_loader, model,criterion, optimizer, device,scheduler=scheduler,epoch=epoch)\n",
    "        \n",
    "        valid_loss = eval_fn(valid_loader, model, criterion,device)\n",
    "        \n",
    "        if valid_loss.avg < best_loss:\n",
    "            best_loss = valid_loss.avg\n",
    "            torch.save(model.state_dict(),f'model_{model_name}_IMG_SIZE_{image_size}_{loss_module}.pth')\n",
    "            print(f'best model found for epoch {epoch}')"
   ]
  },
  {
   "cell_type": "code",
   "execution_count": 21,
   "metadata": {
    "execution": {
     "iopub.execute_input": "2021-04-04T01:18:32.315045Z",
     "iopub.status.busy": "2021-04-04T01:18:32.313208Z",
     "iopub.status.idle": "2021-04-04T01:18:32.315650Z",
     "shell.execute_reply": "2021-04-04T01:18:32.316077Z"
    },
    "papermill": {
     "duration": 0.888826,
     "end_time": "2021-04-04T01:18:32.316213",
     "exception": false,
     "start_time": "2021-04-04T01:18:31.427387",
     "status": "completed"
    },
    "tags": []
   },
   "outputs": [],
   "source": [
    "# run()"
   ]
  },
  {
   "cell_type": "code",
   "execution_count": null,
   "metadata": {
    "papermill": {
     "duration": 0.877345,
     "end_time": "2021-04-04T01:18:34.069153",
     "exception": false,
     "start_time": "2021-04-04T01:18:33.191808",
     "status": "completed"
    },
    "tags": []
   },
   "outputs": [],
   "source": []
  }
 ],
 "metadata": {
  "kernelspec": {
   "display_name": "Python 3",
   "language": "python",
   "name": "python3"
  },
  "language_info": {
   "codemirror_mode": {
    "name": "ipython",
    "version": 3
   },
   "file_extension": ".py",
   "mimetype": "text/x-python",
   "name": "python",
   "nbconvert_exporter": "python",
   "pygments_lexer": "ipython3",
   "version": "3.7.9"
  },
  "papermill": {
   "default_parameters": {},
   "duration": 1547.59846,
   "end_time": "2021-04-04T01:18:37.380859",
   "environment_variables": {},
   "exception": null,
   "input_path": "__notebook__.ipynb",
   "output_path": "__notebook__.ipynb",
   "parameters": {},
   "start_time": "2021-04-04T00:52:49.782399",
   "version": "2.2.2"
  }
 },
 "nbformat": 4,
 "nbformat_minor": 4
}
