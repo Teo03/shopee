{
 "cells": [
  {
   "cell_type": "markdown",
   "metadata": {
    "papermill": {
     "duration": 0.012861,
     "end_time": "2021-03-28T12:57:57.566142",
     "exception": false,
     "start_time": "2021-03-28T12:57:57.553281",
     "status": "completed"
    },
    "tags": []
   },
   "source": [
    "# Inference notebook with nearest neighbors using images and text"
   ]
  },
  {
   "cell_type": "code",
   "execution_count": 1,
   "metadata": {
    "ExecuteTime": {
     "end_time": "2021-03-18T09:59:14.869532Z",
     "start_time": "2021-03-18T09:59:14.482759Z"
    },
    "execution": {
     "iopub.execute_input": "2021-03-28T12:57:57.596069Z",
     "iopub.status.busy": "2021-03-28T12:57:57.595466Z",
     "iopub.status.idle": "2021-03-28T12:58:02.346609Z",
     "shell.execute_reply": "2021-03-28T12:58:02.345902Z"
    },
    "papermill": {
     "duration": 4.769229,
     "end_time": "2021-03-28T12:58:02.346807",
     "exception": false,
     "start_time": "2021-03-28T12:57:57.577578",
     "status": "completed"
    },
    "tags": []
   },
   "outputs": [],
   "source": [
    "import numpy as np\n",
    "import pandas as pd\n",
    "import cudf, cuml, cupy\n",
    "import cv2, matplotlib.pyplot as plt\n",
    "\n",
    "from tqdm import tqdm_notebook\n",
    "from PIL import Image\n",
    "from cuml.feature_extraction.text import TfidfVectorizer\n",
    "from cuml.neighbors import NearestNeighbors\n",
    "\n",
    "def getMetric(col):\n",
    "    def f1score(row):\n",
    "        n = len(np.intersect1d(row.target, row[col]))\n",
    "        return 2*n / (len(row.target)+len(row[col]))\n",
    "    return f1score"
   ]
  },
  {
   "cell_type": "code",
   "execution_count": 2,
   "metadata": {
    "execution": {
     "iopub.execute_input": "2021-03-28T12:58:02.378255Z",
     "iopub.status.busy": "2021-03-28T12:58:02.377688Z",
     "iopub.status.idle": "2021-03-28T12:58:07.363439Z",
     "shell.execute_reply": "2021-03-28T12:58:07.362552Z"
    },
    "papermill": {
     "duration": 5.004577,
     "end_time": "2021-03-28T12:58:07.363608",
     "exception": false,
     "start_time": "2021-03-28T12:58:02.359031",
     "status": "completed"
    },
    "tags": []
   },
   "outputs": [],
   "source": [
    "!mkdir -p /root/.cache/torch/hub/checkpoints/\n",
    "!cp ../input/pretrained-pytorch-models/resnet18-5c106cde.pth /root/.cache/torch/hub/checkpoints/\n",
    "!cp ../input/pretrained-pytorch-models/resnet50-19c8e357.pth /root/.cache/torch/hub/checkpoints/"
   ]
  },
  {
   "cell_type": "markdown",
   "metadata": {
    "papermill": {
     "duration": 0.018948,
     "end_time": "2021-03-28T12:58:07.402982",
     "exception": false,
     "start_time": "2021-03-28T12:58:07.384034",
     "status": "completed"
    },
    "tags": []
   },
   "source": [
    "# Config"
   ]
  },
  {
   "cell_type": "code",
   "execution_count": 3,
   "metadata": {
    "execution": {
     "iopub.execute_input": "2021-03-28T12:58:07.449091Z",
     "iopub.status.busy": "2021-03-28T12:58:07.446568Z",
     "iopub.status.idle": "2021-03-28T12:58:07.449886Z",
     "shell.execute_reply": "2021-03-28T12:58:07.450459Z"
    },
    "papermill": {
     "duration": 0.029034,
     "end_time": "2021-03-28T12:58:07.450630",
     "exception": false,
     "start_time": "2021-03-28T12:58:07.421596",
     "status": "completed"
    },
    "tags": []
   },
   "outputs": [],
   "source": [
    "DATA_PATH = '../input/shopee-product-matching/'\n",
    "COMPUTE_CV = True # always true to test locally and get CV score\n",
    "CHUNK = 1024*4\n",
    "\n",
    "# images\n",
    "IMG_SIZE = 512\n",
    "BATCH_SIZE = 10\n",
    "WORKERS = 2\n",
    "THRESHOLD_IMG = 0.95\n",
    "\n",
    "# titles\n",
    "THRESHOLD_TEXT = 0.7\n",
    "MAX_FETURES = 25000"
   ]
  },
  {
   "cell_type": "markdown",
   "metadata": {
    "papermill": {
     "duration": 0.018561,
     "end_time": "2021-03-28T12:58:07.487964",
     "exception": false,
     "start_time": "2021-03-28T12:58:07.469403",
     "status": "completed"
    },
    "tags": []
   },
   "source": [
    "# Load data"
   ]
  },
  {
   "cell_type": "code",
   "execution_count": 4,
   "metadata": {
    "ExecuteTime": {
     "end_time": "2021-03-18T09:59:15.92512Z",
     "start_time": "2021-03-18T09:59:15.308672Z"
    },
    "execution": {
     "iopub.execute_input": "2021-03-28T12:58:07.534930Z",
     "iopub.status.busy": "2021-03-28T12:58:07.534175Z",
     "iopub.status.idle": "2021-03-28T12:58:11.812010Z",
     "shell.execute_reply": "2021-03-28T12:58:11.811502Z"
    },
    "papermill": {
     "duration": 4.305842,
     "end_time": "2021-03-28T12:58:11.812147",
     "exception": false,
     "start_time": "2021-03-28T12:58:07.506305",
     "status": "completed"
    },
    "tags": []
   },
   "outputs": [],
   "source": [
    "test = pd.read_csv(DATA_PATH + 'test.csv')\n",
    "\n",
    "# if we are submitting\n",
    "if len(test) > 3:\n",
    "    COMPUTE_CV = False\n",
    "\n",
    "if COMPUTE_CV:\n",
    "    train = pd.read_csv(DATA_PATH + 'train.csv')\n",
    "    train_gf = cudf.read_csv(DATA_PATH + 'train.csv')\n",
    "    \n",
    "    # change to full image paths\n",
    "    train['image'] = DATA_PATH + 'train_images/' + train['image']\n",
    "\n",
    "    # target = images with the same label_group\n",
    "    # target is used in calculating F1 (getMetric)\n",
    "    match_labels_images = train.groupby('label_group').posting_id.agg('unique').to_dict()\n",
    "    train['target'] = train.label_group.map(match_labels_images)\n",
    "    \n",
    "else:\n",
    "    # use unseen the test data provided\n",
    "    train = test\n",
    "    train_gf = cudf.read_csv(DATA_PATH + 'test.csv')\n",
    "    \n",
    "    train['image'] = DATA_PATH + 'test_images/' + train['image']"
   ]
  },
  {
   "cell_type": "markdown",
   "metadata": {
    "papermill": {
     "duration": 0.011615,
     "end_time": "2021-03-28T12:58:11.836939",
     "exception": false,
     "start_time": "2021-03-28T12:58:11.825324",
     "status": "completed"
    },
    "tags": []
   },
   "source": [
    "# Image CNN"
   ]
  },
  {
   "cell_type": "code",
   "execution_count": 5,
   "metadata": {
    "ExecuteTime": {
     "end_time": "2021-03-18T09:59:24.147684Z",
     "start_time": "2021-03-18T09:59:23.6933Z"
    },
    "execution": {
     "iopub.execute_input": "2021-03-28T12:58:11.869786Z",
     "iopub.status.busy": "2021-03-28T12:58:11.869093Z",
     "iopub.status.idle": "2021-03-28T12:58:13.250744Z",
     "shell.execute_reply": "2021-03-28T12:58:13.250253Z"
    },
    "papermill": {
     "duration": 1.402367,
     "end_time": "2021-03-28T12:58:13.250902",
     "exception": false,
     "start_time": "2021-03-28T12:58:11.848535",
     "status": "completed"
    },
    "tags": []
   },
   "outputs": [],
   "source": [
    "import torch\n",
    "import torchvision.models as models\n",
    "import torchvision.transforms as transforms\n",
    "import torchvision.datasets as datasets\n",
    "import torch.nn as nn\n",
    "import torch.nn.functional as F\n",
    "import torch.optim as optim\n",
    "from torch.autograd import Variable\n",
    "from torch.utils.data.dataset import Dataset\n",
    "\n",
    "torch.manual_seed(0)\n",
    "torch.backends.cudnn.deterministic = False\n",
    "torch.backends.cudnn.benchmark = True\n",
    "\n",
    "class ShopeeImageDataset(Dataset):\n",
    "    def __init__(self, img_path, transform):\n",
    "        self.img_path = img_path\n",
    "        self.transform = transform\n",
    "        \n",
    "    def __getitem__(self, index):\n",
    "        img = Image.open(self.img_path[index]).convert('RGB')\n",
    "        img = self.transform(img)\n",
    "        return img\n",
    "    \n",
    "    def __len__(self):\n",
    "        return len(self.img_path)\n",
    "    \n",
    "\n",
    "class ShopeeImageEmbeddingNet(nn.Module):\n",
    "    def __init__(self):\n",
    "        super(ShopeeImageEmbeddingNet, self).__init__()\n",
    "        # get the embeddings\n",
    "        model = models.resnet18(True)\n",
    "        model.avgpool = nn.AdaptiveMaxPool2d(output_size=(1, 1))\n",
    "        model = nn.Sequential(*list(model.children())[:-1])\n",
    "        model.eval()\n",
    "        self.model = model\n",
    "        \n",
    "    def forward(self, img):        \n",
    "        out = self.model(img)\n",
    "        return out"
   ]
  },
  {
   "cell_type": "code",
   "execution_count": 6,
   "metadata": {
    "ExecuteTime": {
     "end_time": "2021-03-18T10:01:20.420477Z",
     "start_time": "2021-03-18T09:59:28.809744Z"
    },
    "execution": {
     "iopub.execute_input": "2021-03-28T12:58:13.282617Z",
     "iopub.status.busy": "2021-03-28T12:58:13.282038Z",
     "iopub.status.idle": "2021-03-28T13:08:39.432399Z",
     "shell.execute_reply": "2021-03-28T13:08:39.431390Z"
    },
    "papermill": {
     "duration": 626.169477,
     "end_time": "2021-03-28T13:08:39.432554",
     "exception": false,
     "start_time": "2021-03-28T12:58:13.263077",
     "status": "completed"
    },
    "tags": []
   },
   "outputs": [
    {
     "name": "stderr",
     "output_type": "stream",
     "text": [
      "/opt/conda/lib/python3.7/site-packages/ipykernel_launcher.py:20: TqdmDeprecationWarning: This function will be removed in tqdm==5.0.0\n",
      "Please use `tqdm.notebook.tqdm` instead of `tqdm.tqdm_notebook`\n"
     ]
    },
    {
     "data": {
      "application/vnd.jupyter.widget-view+json": {
       "model_id": "e4962917384d42b1b50032805c94227a",
       "version_major": 2,
       "version_minor": 0
      },
      "text/plain": [
       "  0%|          | 0/3425 [00:00<?, ?it/s]"
      ]
     },
     "metadata": {},
     "output_type": "display_data"
    }
   ],
   "source": [
    "img_dataset = ShopeeImageDataset(\n",
    "    train['image'].values,\n",
    "    transforms.Compose([\n",
    "        transforms.Resize((IMG_SIZE, IMG_SIZE)),\n",
    "        transforms.ToTensor(),\n",
    "        transforms.Normalize([0.485, 0.456, 0.406], [0.229, 0.224, 0.225])\n",
    "    ]))\n",
    "    \n",
    "img_loader = torch.utils.data.DataLoader(img_dataset,\n",
    "                                          batch_size=BATCH_SIZE,\n",
    "                                          shuffle=False,\n",
    "                                          num_workers=WORKERS)\n",
    "\n",
    "img_model = ShopeeImageEmbeddingNet().cuda()\n",
    "\n",
    "# image features\n",
    "image_features = []\n",
    "\n",
    "with torch.no_grad():\n",
    "    for data in tqdm_notebook(img_loader):\n",
    "        feat = img_model(data.cuda())\n",
    "        \n",
    "        feat = feat.reshape(feat.shape[0], feat.shape[1])\n",
    "        feat = feat.data.cpu().numpy()\n",
    "        \n",
    "        image_features.append(feat)"
   ]
  },
  {
   "cell_type": "code",
   "execution_count": 7,
   "metadata": {
    "ExecuteTime": {
     "end_time": "2021-03-18T10:01:43.818543Z",
     "start_time": "2021-03-18T10:01:43.401624Z"
    },
    "execution": {
     "iopub.execute_input": "2021-03-28T13:08:39.467337Z",
     "iopub.status.busy": "2021-03-28T13:08:39.466744Z",
     "iopub.status.idle": "2021-03-28T13:08:39.552690Z",
     "shell.execute_reply": "2021-03-28T13:08:39.551986Z"
    },
    "papermill": {
     "duration": 0.106528,
     "end_time": "2021-03-28T13:08:39.552847",
     "exception": false,
     "start_time": "2021-03-28T13:08:39.446319",
     "status": "completed"
    },
    "scrolled": true,
    "tags": []
   },
   "outputs": [],
   "source": [
    "from sklearn.preprocessing import normalize\n",
    "\n",
    "# L2 norm to kill all the sim in 0-1\n",
    "image_features = np.vstack(image_features)\n",
    "image_features = normalize(image_features)"
   ]
  },
  {
   "cell_type": "code",
   "execution_count": 8,
   "metadata": {
    "execution": {
     "iopub.execute_input": "2021-03-28T13:08:39.584316Z",
     "iopub.status.busy": "2021-03-28T13:08:39.583608Z",
     "iopub.status.idle": "2021-03-28T13:08:40.189120Z",
     "shell.execute_reply": "2021-03-28T13:08:40.188164Z"
    },
    "papermill": {
     "duration": 0.623363,
     "end_time": "2021-03-28T13:08:40.189254",
     "exception": false,
     "start_time": "2021-03-28T13:08:39.565891",
     "status": "completed"
    },
    "tags": []
   },
   "outputs": [
    {
     "data": {
      "text/plain": [
       "NearestNeighbors(n_neighbors=50, verbose=4, handle=<cuml.raft.common.handle.Handle object at 0x7f656f28a190>, algorithm='brute', metric='euclidean', p=2, metric_params=None, output_type='numpy')"
      ]
     },
     "execution_count": 8,
     "metadata": {},
     "output_type": "execute_result"
    }
   ],
   "source": [
    "# 50 matches is the maximum allowed\n",
    "neighbors = 50\n",
    "\n",
    "model = NearestNeighbors(n_neighbors=neighbors)\n",
    "model.fit(image_features)"
   ]
  },
  {
   "cell_type": "code",
   "execution_count": 9,
   "metadata": {
    "ExecuteTime": {
     "end_time": "2021-03-18T10:01:54.771453Z",
     "start_time": "2021-03-18T10:01:44.50243Z"
    },
    "execution": {
     "iopub.execute_input": "2021-03-28T13:08:40.224698Z",
     "iopub.status.busy": "2021-03-28T13:08:40.224140Z",
     "iopub.status.idle": "2021-03-28T13:08:40.228451Z",
     "shell.execute_reply": "2021-03-28T13:08:40.227986Z"
    },
    "papermill": {
     "duration": 0.025093,
     "end_time": "2021-03-28T13:08:40.228564",
     "exception": false,
     "start_time": "2021-03-28T13:08:40.203471",
     "status": "completed"
    },
    "tags": []
   },
   "outputs": [],
   "source": [
    "def findImageNeighbors(image_features):\n",
    "    preds = []\n",
    "    image_features = cupy.array(image_features)\n",
    "    \n",
    "    print('Finding similar images...')\n",
    "    CTS = len(image_features) // CHUNK\n",
    "    \n",
    "    if len(image_features) % CHUNK != 0:\n",
    "        CTS += 1\n",
    "\n",
    "    for j in range(CTS):\n",
    "        a = j*CHUNK # select 1\n",
    "        b = (j+1)*CHUNK # select the next one\n",
    "        b = min(b, len(image_features)) \n",
    "        \n",
    "        print('chunk',a,'to',b)\n",
    "        \n",
    "        # COSINE SIMILARITY DISTANCE\n",
    "        distances = cupy.matmul(image_features, image_features[a:b].T).T\n",
    "\n",
    "        for k in range(b-a):\n",
    "            IDX = cupy.where(distances[k,] > THRESHOLD_IMG)[0]\n",
    "            o = train.iloc[cupy.asnumpy(IDX)].posting_id.values\n",
    "            preds.append(o)\n",
    "            \n",
    "    return preds"
   ]
  },
  {
   "cell_type": "code",
   "execution_count": 10,
   "metadata": {
    "ExecuteTime": {
     "end_time": "2021-03-18T10:01:58.132852Z",
     "start_time": "2021-03-18T10:01:56.678412Z"
    },
    "execution": {
     "iopub.execute_input": "2021-03-28T13:08:40.261577Z",
     "iopub.status.busy": "2021-03-28T13:08:40.260372Z",
     "iopub.status.idle": "2021-03-28T13:09:05.154761Z",
     "shell.execute_reply": "2021-03-28T13:09:05.154323Z"
    },
    "papermill": {
     "duration": 24.912715,
     "end_time": "2021-03-28T13:09:05.154913",
     "exception": false,
     "start_time": "2021-03-28T13:08:40.242198",
     "status": "completed"
    },
    "tags": []
   },
   "outputs": [
    {
     "name": "stdout",
     "output_type": "stream",
     "text": [
      "Finding similar images...\n",
      "chunk 0 to 4096\n",
      "chunk 4096 to 8192\n",
      "chunk 8192 to 12288\n",
      "chunk 12288 to 16384\n",
      "chunk 16384 to 20480\n",
      "chunk 20480 to 24576\n",
      "chunk 24576 to 28672\n",
      "chunk 28672 to 32768\n",
      "chunk 32768 to 34250\n",
      "CV score for only using images = 0.6527899883424048\n"
     ]
    }
   ],
   "source": [
    "train['oof_cnn'] = findImageNeighbors(image_features)\n",
    "\n",
    "if COMPUTE_CV:\n",
    "    train['f1'] = train.apply(getMetric('oof_cnn'),axis=1)\n",
    "    print('CV score for only using images =',train.f1.mean())"
   ]
  },
  {
   "cell_type": "markdown",
   "metadata": {
    "papermill": {
     "duration": 0.016383,
     "end_time": "2021-03-28T13:09:05.188118",
     "exception": false,
     "start_time": "2021-03-28T13:09:05.171735",
     "status": "completed"
    },
    "tags": []
   },
   "source": [
    "# Title TFIDF"
   ]
  },
  {
   "cell_type": "code",
   "execution_count": 11,
   "metadata": {
    "ExecuteTime": {
     "end_time": "2021-03-18T10:02:00.631468Z",
     "start_time": "2021-03-18T10:01:59.851964Z"
    },
    "execution": {
     "iopub.execute_input": "2021-03-28T13:09:05.226423Z",
     "iopub.status.busy": "2021-03-28T13:09:05.225673Z",
     "iopub.status.idle": "2021-03-28T13:09:20.260489Z",
     "shell.execute_reply": "2021-03-28T13:09:20.260066Z"
    },
    "papermill": {
     "duration": 15.055895,
     "end_time": "2021-03-28T13:09:20.260610",
     "exception": false,
     "start_time": "2021-03-28T13:09:05.204715",
     "status": "completed"
    },
    "tags": []
   },
   "outputs": [
    {
     "name": "stderr",
     "output_type": "stream",
     "text": [
      "/opt/conda/lib/python3.7/site-packages/cudf/core/join/join.py:368: UserWarning: can't safely cast column from right with type int32 to uint16, upcasting to int32\n",
      "  \"right\", dtype_r, dtype_l, libcudf_join_type\n"
     ]
    },
    {
     "name": "stdout",
     "output_type": "stream",
     "text": [
      "text embeddings shape (34250, 25000)\n"
     ]
    }
   ],
   "source": [
    "model = TfidfVectorizer(stop_words=None, binary=True, max_features=MAX_FETURES)\n",
    "text_embeddings = model.fit_transform(train_gf.title).toarray()\n",
    "\n",
    "print('text embeddings shape', text_embeddings.shape)"
   ]
  },
  {
   "cell_type": "code",
   "execution_count": 12,
   "metadata": {
    "execution": {
     "iopub.execute_input": "2021-03-28T13:09:20.302285Z",
     "iopub.status.busy": "2021-03-28T13:09:20.301567Z",
     "iopub.status.idle": "2021-03-28T13:09:20.305607Z",
     "shell.execute_reply": "2021-03-28T13:09:20.305155Z"
    },
    "papermill": {
     "duration": 0.027873,
     "end_time": "2021-03-28T13:09:20.305733",
     "exception": false,
     "start_time": "2021-03-28T13:09:20.277860",
     "status": "completed"
    },
    "tags": []
   },
   "outputs": [],
   "source": [
    "def findTitleNeighbors(text_embeddings):\n",
    "    preds = []\n",
    "\n",
    "    print('Finding similar titles...')\n",
    "    CTS = len(train)//CHUNK\n",
    "\n",
    "    if len(train) % CHUNK != 0:\n",
    "        CTS += 1\n",
    "\n",
    "    for j in range(CTS):\n",
    "        a = j*CHUNK # select 1\n",
    "        b = (j+1)*CHUNK # select the next one\n",
    "        b = min(b,len(train))\n",
    "\n",
    "        print('chunk',a,'to',b)\n",
    "\n",
    "        # COSINE SIMILARITY DISTANCE\n",
    "        distances = cupy.matmul(text_embeddings, text_embeddings[a:b].T).T\n",
    "        \n",
    "        for k in range(b-a):\n",
    "            IDX = cupy.where(distances[k,] > THRESHOLD_TEXT)[0]\n",
    "            o = train.iloc[cupy.asnumpy(IDX)].posting_id.values\n",
    "            preds.append(o)\n",
    "            \n",
    "    return preds"
   ]
  },
  {
   "cell_type": "code",
   "execution_count": 13,
   "metadata": {
    "ExecuteTime": {
     "end_time": "2021-03-18T10:06:03.146166Z",
     "start_time": "2021-03-18T10:06:01.83687Z"
    },
    "execution": {
     "iopub.execute_input": "2021-03-28T13:09:20.346628Z",
     "iopub.status.busy": "2021-03-28T13:09:20.345853Z",
     "iopub.status.idle": "2021-03-28T13:09:52.696098Z",
     "shell.execute_reply": "2021-03-28T13:09:52.696530Z"
    },
    "papermill": {
     "duration": 32.373662,
     "end_time": "2021-03-28T13:09:52.696711",
     "exception": false,
     "start_time": "2021-03-28T13:09:20.323049",
     "status": "completed"
    },
    "tags": []
   },
   "outputs": [
    {
     "name": "stdout",
     "output_type": "stream",
     "text": [
      "Finding similar titles...\n",
      "chunk 0 to 4096\n",
      "chunk 4096 to 8192\n",
      "chunk 8192 to 12288\n",
      "chunk 12288 to 16384\n",
      "chunk 16384 to 20480\n",
      "chunk 20480 to 24576\n",
      "chunk 24576 to 28672\n",
      "chunk 28672 to 32768\n",
      "chunk 32768 to 34250\n",
      "CV score for text =  0.6137154152579091\n"
     ]
    }
   ],
   "source": [
    "train['oof_text'] = findTitleNeighbors(text_embeddings)\n",
    "\n",
    "if COMPUTE_CV:\n",
    "    train['f1'] = train.apply(getMetric('oof_text'),axis=1)\n",
    "    print('CV score for text = ', train.f1.mean())"
   ]
  },
  {
   "cell_type": "markdown",
   "metadata": {
    "papermill": {
     "duration": 0.019426,
     "end_time": "2021-03-28T13:09:52.735793",
     "exception": false,
     "start_time": "2021-03-28T13:09:52.716367",
     "status": "completed"
    },
    "tags": []
   },
   "source": [
    "# Submission"
   ]
  },
  {
   "cell_type": "code",
   "execution_count": 14,
   "metadata": {
    "ExecuteTime": {
     "end_time": "2021-03-18T10:06:04.931476Z",
     "start_time": "2021-03-18T10:06:04.925838Z"
    },
    "execution": {
     "iopub.execute_input": "2021-03-28T13:09:52.780603Z",
     "iopub.status.busy": "2021-03-28T13:09:52.779826Z",
     "iopub.status.idle": "2021-03-28T13:09:52.782712Z",
     "shell.execute_reply": "2021-03-28T13:09:52.782308Z"
    },
    "papermill": {
     "duration": 0.027575,
     "end_time": "2021-03-28T13:09:52.782842",
     "exception": false,
     "start_time": "2021-03-28T13:09:52.755267",
     "status": "completed"
    },
    "tags": []
   },
   "outputs": [],
   "source": [
    "def combine_for_cv(row):\n",
    "    x = np.concatenate([row.oof_text, row.oof_cnn])\n",
    "    return np.unique(x)\n",
    "\n",
    "def combine_for_sub(row):\n",
    "    x = np.concatenate([row.oof_text, row.oof_cnn])\n",
    "    return ' '.join(np.unique(x))"
   ]
  },
  {
   "cell_type": "code",
   "execution_count": 15,
   "metadata": {
    "ExecuteTime": {
     "end_time": "2021-03-18T10:06:09.759812Z",
     "start_time": "2021-03-18T10:06:05.955972Z"
    },
    "execution": {
     "iopub.execute_input": "2021-03-28T13:09:52.829155Z",
     "iopub.status.busy": "2021-03-28T13:09:52.828249Z",
     "iopub.status.idle": "2021-03-28T13:09:59.200797Z",
     "shell.execute_reply": "2021-03-28T13:09:59.200257Z"
    },
    "papermill": {
     "duration": 6.398442,
     "end_time": "2021-03-28T13:09:59.200947",
     "exception": false,
     "start_time": "2021-03-28T13:09:52.802505",
     "status": "completed"
    },
    "tags": []
   },
   "outputs": [
    {
     "name": "stdout",
     "output_type": "stream",
     "text": [
      "CV Score = 0.7342644345623364\n"
     ]
    }
   ],
   "source": [
    "if COMPUTE_CV:\n",
    "    # target = images with the same label_group\n",
    "    # target is used in calculating F1 (getMetric)\n",
    "    match_labels_images = train.groupby('label_group').posting_id.agg('unique').to_dict()\n",
    "    train['target'] = train.label_group.map(match_labels_images)\n",
    "\n",
    "    # get OOF predictions\n",
    "    train['oof'] = train.apply(combine_for_cv, axis=1)\n",
    "\n",
    "    # calculate F1 score on OOF predictions\n",
    "    train['f1'] = train.apply(getMetric('oof'), axis=1)\n",
    "    print('CV Score =', train.f1.mean())\n",
    "\n",
    "\n",
    "train['matches'] = train.apply(combine_for_sub, axis=1)"
   ]
  },
  {
   "cell_type": "code",
   "execution_count": 16,
   "metadata": {
    "ExecuteTime": {
     "end_time": "2021-03-18T10:06:12.385916Z",
     "start_time": "2021-03-18T10:06:12.180234Z"
    },
    "execution": {
     "iopub.execute_input": "2021-03-28T13:09:59.247809Z",
     "iopub.status.busy": "2021-03-28T13:09:59.246943Z",
     "iopub.status.idle": "2021-03-28T13:09:59.589490Z",
     "shell.execute_reply": "2021-03-28T13:09:59.589912Z"
    },
    "papermill": {
     "duration": 0.36847,
     "end_time": "2021-03-28T13:09:59.590060",
     "exception": false,
     "start_time": "2021-03-28T13:09:59.221590",
     "status": "completed"
    },
    "tags": []
   },
   "outputs": [
    {
     "data": {
      "text/html": [
       "<div>\n",
       "<style scoped>\n",
       "    .dataframe tbody tr th:only-of-type {\n",
       "        vertical-align: middle;\n",
       "    }\n",
       "\n",
       "    .dataframe tbody tr th {\n",
       "        vertical-align: top;\n",
       "    }\n",
       "\n",
       "    .dataframe thead th {\n",
       "        text-align: right;\n",
       "    }\n",
       "</style>\n",
       "<table border=\"1\" class=\"dataframe\">\n",
       "  <thead>\n",
       "    <tr style=\"text-align: right;\">\n",
       "      <th></th>\n",
       "      <th>posting_id</th>\n",
       "      <th>matches</th>\n",
       "    </tr>\n",
       "  </thead>\n",
       "  <tbody>\n",
       "    <tr>\n",
       "      <th>0</th>\n",
       "      <td>train_129225211</td>\n",
       "      <td>train_129225211 train_2278313361</td>\n",
       "    </tr>\n",
       "    <tr>\n",
       "      <th>1</th>\n",
       "      <td>train_3386243561</td>\n",
       "      <td>train_3386243561</td>\n",
       "    </tr>\n",
       "    <tr>\n",
       "      <th>2</th>\n",
       "      <td>train_2288590299</td>\n",
       "      <td>train_2288590299</td>\n",
       "    </tr>\n",
       "    <tr>\n",
       "      <th>3</th>\n",
       "      <td>train_2406599165</td>\n",
       "      <td>train_1508100548 train_1744956981 train_240659...</td>\n",
       "    </tr>\n",
       "    <tr>\n",
       "      <th>4</th>\n",
       "      <td>train_3369186413</td>\n",
       "      <td>train_3369186413</td>\n",
       "    </tr>\n",
       "    <tr>\n",
       "      <th>...</th>\n",
       "      <td>...</td>\n",
       "      <td>...</td>\n",
       "    </tr>\n",
       "    <tr>\n",
       "      <th>34245</th>\n",
       "      <td>train_4028265689</td>\n",
       "      <td>train_4028265689</td>\n",
       "    </tr>\n",
       "    <tr>\n",
       "      <th>34246</th>\n",
       "      <td>train_769054909</td>\n",
       "      <td>train_1463059254 train_769054909</td>\n",
       "    </tr>\n",
       "    <tr>\n",
       "      <th>34247</th>\n",
       "      <td>train_614977732</td>\n",
       "      <td>train_1264798465 train_512157627 train_6034107...</td>\n",
       "    </tr>\n",
       "    <tr>\n",
       "      <th>34248</th>\n",
       "      <td>train_3630949769</td>\n",
       "      <td>train_1431563868 train_3419392575 train_363094...</td>\n",
       "    </tr>\n",
       "    <tr>\n",
       "      <th>34249</th>\n",
       "      <td>train_1792180725</td>\n",
       "      <td>train_1792180725 train_795128312</td>\n",
       "    </tr>\n",
       "  </tbody>\n",
       "</table>\n",
       "<p>34250 rows × 2 columns</p>\n",
       "</div>"
      ],
      "text/plain": [
       "             posting_id                                            matches\n",
       "0       train_129225211                   train_129225211 train_2278313361\n",
       "1      train_3386243561                                   train_3386243561\n",
       "2      train_2288590299                                   train_2288590299\n",
       "3      train_2406599165  train_1508100548 train_1744956981 train_240659...\n",
       "4      train_3369186413                                   train_3369186413\n",
       "...                 ...                                                ...\n",
       "34245  train_4028265689                                   train_4028265689\n",
       "34246   train_769054909                   train_1463059254 train_769054909\n",
       "34247   train_614977732  train_1264798465 train_512157627 train_6034107...\n",
       "34248  train_3630949769  train_1431563868 train_3419392575 train_363094...\n",
       "34249  train_1792180725                   train_1792180725 train_795128312\n",
       "\n",
       "[34250 rows x 2 columns]"
      ]
     },
     "execution_count": 16,
     "metadata": {},
     "output_type": "execute_result"
    }
   ],
   "source": [
    "train[['posting_id','matches']].to_csv('submission.csv', index=False)\n",
    "sub = pd.read_csv('submission.csv')\n",
    "sub"
   ]
  },
  {
   "cell_type": "code",
   "execution_count": null,
   "metadata": {
    "papermill": {
     "duration": 0.020491,
     "end_time": "2021-03-28T13:09:59.631163",
     "exception": false,
     "start_time": "2021-03-28T13:09:59.610672",
     "status": "completed"
    },
    "tags": []
   },
   "outputs": [],
   "source": []
  }
 ],
 "metadata": {
  "kernelspec": {
   "display_name": "Python 3",
   "language": "python",
   "name": "python3"
  },
  "language_info": {
   "codemirror_mode": {
    "name": "ipython",
    "version": 3
   },
   "file_extension": ".py",
   "mimetype": "text/x-python",
   "name": "python",
   "nbconvert_exporter": "python",
   "pygments_lexer": "ipython3",
   "version": "3.7.9"
  },
  "papermill": {
   "default_parameters": {},
   "duration": 728.805446,
   "end_time": "2021-03-28T13:10:01.565571",
   "environment_variables": {},
   "exception": null,
   "input_path": "__notebook__.ipynb",
   "output_path": "__notebook__.ipynb",
   "parameters": {},
   "start_time": "2021-03-28T12:57:52.760125",
   "version": "2.2.2"
  },
  "widgets": {
   "application/vnd.jupyter.widget-state+json": {
    "state": {
     "04469bf083654c129cb78f4511648120": {
      "model_module": "@jupyter-widgets/controls",
      "model_module_version": "1.5.0",
      "model_name": "DescriptionStyleModel",
      "state": {
       "_model_module": "@jupyter-widgets/controls",
       "_model_module_version": "1.5.0",
       "_model_name": "DescriptionStyleModel",
       "_view_count": null,
       "_view_module": "@jupyter-widgets/base",
       "_view_module_version": "1.2.0",
       "_view_name": "StyleView",
       "description_width": ""
      }
     },
     "24edca165a0848979cb45ab778198a87": {
      "model_module": "@jupyter-widgets/controls",
      "model_module_version": "1.5.0",
      "model_name": "HTMLModel",
      "state": {
       "_dom_classes": [],
       "_model_module": "@jupyter-widgets/controls",
       "_model_module_version": "1.5.0",
       "_model_name": "HTMLModel",
       "_view_count": null,
       "_view_module": "@jupyter-widgets/controls",
       "_view_module_version": "1.5.0",
       "_view_name": "HTMLView",
       "description": "",
       "description_tooltip": null,
       "layout": "IPY_MODEL_4efcd7cb09144fc5a8474053f2265fb0",
       "placeholder": "​",
       "style": "IPY_MODEL_378117e768544950b79ffc3b8867fb30",
       "value": " 3425/3425 [10:21&lt;00:00,  6.19it/s]"
      }
     },
     "378117e768544950b79ffc3b8867fb30": {
      "model_module": "@jupyter-widgets/controls",
      "model_module_version": "1.5.0",
      "model_name": "DescriptionStyleModel",
      "state": {
       "_model_module": "@jupyter-widgets/controls",
       "_model_module_version": "1.5.0",
       "_model_name": "DescriptionStyleModel",
       "_view_count": null,
       "_view_module": "@jupyter-widgets/base",
       "_view_module_version": "1.2.0",
       "_view_name": "StyleView",
       "description_width": ""
      }
     },
     "473f6d4042d14f93b117168b9a53b48b": {
      "model_module": "@jupyter-widgets/base",
      "model_module_version": "1.2.0",
      "model_name": "LayoutModel",
      "state": {
       "_model_module": "@jupyter-widgets/base",
       "_model_module_version": "1.2.0",
       "_model_name": "LayoutModel",
       "_view_count": null,
       "_view_module": "@jupyter-widgets/base",
       "_view_module_version": "1.2.0",
       "_view_name": "LayoutView",
       "align_content": null,
       "align_items": null,
       "align_self": null,
       "border": null,
       "bottom": null,
       "display": null,
       "flex": null,
       "flex_flow": null,
       "grid_area": null,
       "grid_auto_columns": null,
       "grid_auto_flow": null,
       "grid_auto_rows": null,
       "grid_column": null,
       "grid_gap": null,
       "grid_row": null,
       "grid_template_areas": null,
       "grid_template_columns": null,
       "grid_template_rows": null,
       "height": null,
       "justify_content": null,
       "justify_items": null,
       "left": null,
       "margin": null,
       "max_height": null,
       "max_width": null,
       "min_height": null,
       "min_width": null,
       "object_fit": null,
       "object_position": null,
       "order": null,
       "overflow": null,
       "overflow_x": null,
       "overflow_y": null,
       "padding": null,
       "right": null,
       "top": null,
       "visibility": null,
       "width": null
      }
     },
     "4efcd7cb09144fc5a8474053f2265fb0": {
      "model_module": "@jupyter-widgets/base",
      "model_module_version": "1.2.0",
      "model_name": "LayoutModel",
      "state": {
       "_model_module": "@jupyter-widgets/base",
       "_model_module_version": "1.2.0",
       "_model_name": "LayoutModel",
       "_view_count": null,
       "_view_module": "@jupyter-widgets/base",
       "_view_module_version": "1.2.0",
       "_view_name": "LayoutView",
       "align_content": null,
       "align_items": null,
       "align_self": null,
       "border": null,
       "bottom": null,
       "display": null,
       "flex": null,
       "flex_flow": null,
       "grid_area": null,
       "grid_auto_columns": null,
       "grid_auto_flow": null,
       "grid_auto_rows": null,
       "grid_column": null,
       "grid_gap": null,
       "grid_row": null,
       "grid_template_areas": null,
       "grid_template_columns": null,
       "grid_template_rows": null,
       "height": null,
       "justify_content": null,
       "justify_items": null,
       "left": null,
       "margin": null,
       "max_height": null,
       "max_width": null,
       "min_height": null,
       "min_width": null,
       "object_fit": null,
       "object_position": null,
       "order": null,
       "overflow": null,
       "overflow_x": null,
       "overflow_y": null,
       "padding": null,
       "right": null,
       "top": null,
       "visibility": null,
       "width": null
      }
     },
     "87ca30a873ba4c4881fb336767c19d95": {
      "model_module": "@jupyter-widgets/controls",
      "model_module_version": "1.5.0",
      "model_name": "ProgressStyleModel",
      "state": {
       "_model_module": "@jupyter-widgets/controls",
       "_model_module_version": "1.5.0",
       "_model_name": "ProgressStyleModel",
       "_view_count": null,
       "_view_module": "@jupyter-widgets/base",
       "_view_module_version": "1.2.0",
       "_view_name": "StyleView",
       "bar_color": null,
       "description_width": ""
      }
     },
     "b16499e201cb491fbd9569ab1a777897": {
      "model_module": "@jupyter-widgets/base",
      "model_module_version": "1.2.0",
      "model_name": "LayoutModel",
      "state": {
       "_model_module": "@jupyter-widgets/base",
       "_model_module_version": "1.2.0",
       "_model_name": "LayoutModel",
       "_view_count": null,
       "_view_module": "@jupyter-widgets/base",
       "_view_module_version": "1.2.0",
       "_view_name": "LayoutView",
       "align_content": null,
       "align_items": null,
       "align_self": null,
       "border": null,
       "bottom": null,
       "display": null,
       "flex": null,
       "flex_flow": null,
       "grid_area": null,
       "grid_auto_columns": null,
       "grid_auto_flow": null,
       "grid_auto_rows": null,
       "grid_column": null,
       "grid_gap": null,
       "grid_row": null,
       "grid_template_areas": null,
       "grid_template_columns": null,
       "grid_template_rows": null,
       "height": null,
       "justify_content": null,
       "justify_items": null,
       "left": null,
       "margin": null,
       "max_height": null,
       "max_width": null,
       "min_height": null,
       "min_width": null,
       "object_fit": null,
       "object_position": null,
       "order": null,
       "overflow": null,
       "overflow_x": null,
       "overflow_y": null,
       "padding": null,
       "right": null,
       "top": null,
       "visibility": null,
       "width": null
      }
     },
     "bb8fe8fd063a4bd4916bab681601bac7": {
      "model_module": "@jupyter-widgets/controls",
      "model_module_version": "1.5.0",
      "model_name": "HTMLModel",
      "state": {
       "_dom_classes": [],
       "_model_module": "@jupyter-widgets/controls",
       "_model_module_version": "1.5.0",
       "_model_name": "HTMLModel",
       "_view_count": null,
       "_view_module": "@jupyter-widgets/controls",
       "_view_module_version": "1.5.0",
       "_view_name": "HTMLView",
       "description": "",
       "description_tooltip": null,
       "layout": "IPY_MODEL_473f6d4042d14f93b117168b9a53b48b",
       "placeholder": "​",
       "style": "IPY_MODEL_04469bf083654c129cb78f4511648120",
       "value": "100%"
      }
     },
     "ca727886963c4c62bd1ee880b3bad4e4": {
      "model_module": "@jupyter-widgets/controls",
      "model_module_version": "1.5.0",
      "model_name": "FloatProgressModel",
      "state": {
       "_dom_classes": [],
       "_model_module": "@jupyter-widgets/controls",
       "_model_module_version": "1.5.0",
       "_model_name": "FloatProgressModel",
       "_view_count": null,
       "_view_module": "@jupyter-widgets/controls",
       "_view_module_version": "1.5.0",
       "_view_name": "ProgressView",
       "bar_style": "success",
       "description": "",
       "description_tooltip": null,
       "layout": "IPY_MODEL_cdf4887c1bc140fd9646420f766f0117",
       "max": 3425.0,
       "min": 0.0,
       "orientation": "horizontal",
       "style": "IPY_MODEL_87ca30a873ba4c4881fb336767c19d95",
       "value": 3425.0
      }
     },
     "cdf4887c1bc140fd9646420f766f0117": {
      "model_module": "@jupyter-widgets/base",
      "model_module_version": "1.2.0",
      "model_name": "LayoutModel",
      "state": {
       "_model_module": "@jupyter-widgets/base",
       "_model_module_version": "1.2.0",
       "_model_name": "LayoutModel",
       "_view_count": null,
       "_view_module": "@jupyter-widgets/base",
       "_view_module_version": "1.2.0",
       "_view_name": "LayoutView",
       "align_content": null,
       "align_items": null,
       "align_self": null,
       "border": null,
       "bottom": null,
       "display": null,
       "flex": null,
       "flex_flow": null,
       "grid_area": null,
       "grid_auto_columns": null,
       "grid_auto_flow": null,
       "grid_auto_rows": null,
       "grid_column": null,
       "grid_gap": null,
       "grid_row": null,
       "grid_template_areas": null,
       "grid_template_columns": null,
       "grid_template_rows": null,
       "height": null,
       "justify_content": null,
       "justify_items": null,
       "left": null,
       "margin": null,
       "max_height": null,
       "max_width": null,
       "min_height": null,
       "min_width": null,
       "object_fit": null,
       "object_position": null,
       "order": null,
       "overflow": null,
       "overflow_x": null,
       "overflow_y": null,
       "padding": null,
       "right": null,
       "top": null,
       "visibility": null,
       "width": null
      }
     },
     "e4962917384d42b1b50032805c94227a": {
      "model_module": "@jupyter-widgets/controls",
      "model_module_version": "1.5.0",
      "model_name": "HBoxModel",
      "state": {
       "_dom_classes": [],
       "_model_module": "@jupyter-widgets/controls",
       "_model_module_version": "1.5.0",
       "_model_name": "HBoxModel",
       "_view_count": null,
       "_view_module": "@jupyter-widgets/controls",
       "_view_module_version": "1.5.0",
       "_view_name": "HBoxView",
       "box_style": "",
       "children": [
        "IPY_MODEL_bb8fe8fd063a4bd4916bab681601bac7",
        "IPY_MODEL_ca727886963c4c62bd1ee880b3bad4e4",
        "IPY_MODEL_24edca165a0848979cb45ab778198a87"
       ],
       "layout": "IPY_MODEL_b16499e201cb491fbd9569ab1a777897"
      }
     }
    },
    "version_major": 2,
    "version_minor": 0
   }
  }
 },
 "nbformat": 4,
 "nbformat_minor": 4
}
